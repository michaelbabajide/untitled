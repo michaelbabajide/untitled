{
 "cells": [
  {
   "cell_type": "markdown",
   "id": "6882ec96-32b6-42a0-b857-8c8d5d2a0f3b",
   "metadata": {
    "id": "6882ec96-32b6-42a0-b857-8c8d5d2a0f3b"
   },
   "source": [
    "## Crop Yield Prediction\n",
    "\n",
    "This dataset contains agricultural data for 1,000,000 samples aimed at predicting crop yield (in tons per hectare) based on various factors. The dataset can be used for regression tasks in machine learning, especially for predicting crop productivity.\n",
    "\n",
    "- Region: The geographical region where the crop is grown (North, East, South, West).\n",
    "- Soil_Type: The type of soil in which the crop is planted (Clay, Sandy, Loam, Silt, Peaty, Chalky).\n",
    "- Crop: The type of crop grown (Wheat, Rice, Maize, Barley, Soybean, Cotton).\n",
    "- Rainfall_mm: The amount of rainfall received in millimeters during the crop growth period.\n",
    "- Temperature_Celsius: The average temperature during the crop growth period, measured in degrees Celsius.\n",
    "- Fertilizer_Used: Indicates whether fertilizer was applied (True = Yes, False = No).\n",
    "- Irrigation_Used: Indicates whether irrigation was used during the crop growth period (True = Yes, False = No).\n",
    "- Weather_Condition: The predominant weather condition during the growing season (Sunny, Rainy, Cloudy).\n",
    "- Days_to_Harvest: The number of days taken for the crop to be harvested after planting.\n",
    "- Yield_tons_per_hectare: The total crop yield produced, measured in tons per hectare.\n",
    "\n",
    "*Dataset available on [Kaggle](https://www.kaggle.com/datasets/samuelotiattakorah/agriculture-crop-yield)*"
   ]
  },
  {
   "cell_type": "code",
   "execution_count": 1,
   "id": "YbPTrfYaJwNb",
   "metadata": {
    "colab": {
     "base_uri": "https://localhost:8080/"
    },
    "executionInfo": {
     "elapsed": 28881,
     "status": "ok",
     "timestamp": 1743009640635,
     "user": {
      "displayName": "Michael Babajide",
      "userId": "14171008162149959629"
     },
     "user_tz": -60
    },
    "id": "YbPTrfYaJwNb",
    "outputId": "c8a9473c-c7ec-4d4e-c67f-9b4fa11580e1"
   },
   "outputs": [
    {
     "name": "stdout",
     "output_type": "stream",
     "text": [
      "Mounted at /content/drive\n"
     ]
    }
   ],
   "source": [
    "# from google.colab import drive\n",
    "# drive.mount('/content/drive')"
   ]
  },
  {
   "cell_type": "code",
   "execution_count": 1,
   "id": "8bed9a95-c76d-485c-a019-9f823781dda6",
   "metadata": {
    "executionInfo": {
     "elapsed": 60,
     "status": "ok",
     "timestamp": 1743022005213,
     "user": {
      "displayName": "Michael Babajide",
      "userId": "14171008162149959629"
     },
     "user_tz": -60
    },
    "id": "8bed9a95-c76d-485c-a019-9f823781dda6"
   },
   "outputs": [],
   "source": [
    "import pandas as pd\n",
    "import numpy as np\n",
    "import matplotlib.pyplot as plt\n",
    "import sklearn\n",
    "import joblib, time, sys\n",
    "import cloudpickle\n",
    "from sklearn.model_selection import cross_val_score, GridSearchCV\n",
    "from sklearn.linear_model import LinearRegression\n",
    "from sklearn.svm import LinearSVR\n",
    "from sklearn.ensemble import RandomForestRegressor, GradientBoostingRegressor\n",
    "from sklearn.preprocessing import StandardScaler, LabelBinarizer\n",
    "from sklearn.pipeline import Pipeline\n",
    "from sklearn.metrics import mean_squared_error, r2_score, mean_absolute_error"
   ]
  },
  {
   "cell_type": "code",
   "execution_count": 2,
   "id": "8e281b2c-2351-4627-bbdf-e6fd7170428e",
   "metadata": {
    "executionInfo": {
     "elapsed": 18,
     "status": "ok",
     "timestamp": 1743009647142,
     "user": {
      "displayName": "Michael Babajide",
      "userId": "14171008162149959629"
     },
     "user_tz": -60
    },
    "id": "8e281b2c-2351-4627-bbdf-e6fd7170428e"
   },
   "outputs": [],
   "source": [
    "def load_crop_data():\n",
    "    # if on colab\n",
    "    # csv_path = \"/content/drive/MyDrive/ml_ai/crop_yield_prediction/crop_yield.csv\"\n",
    "    # if on remote machine\n",
    "    csv_path = \"crop_yield.csv\"\n",
    "    return pd.read_csv(csv_path)"
   ]
  },
  {
   "cell_type": "code",
   "execution_count": 3,
   "id": "fb3ddb64-dda2-44ae-8618-26ddccace2da",
   "metadata": {
    "colab": {
     "base_uri": "https://localhost:8080/",
     "height": 226
    },
    "executionInfo": {
     "elapsed": 4040,
     "status": "ok",
     "timestamp": 1743009652355,
     "user": {
      "displayName": "Michael Babajide",
      "userId": "14171008162149959629"
     },
     "user_tz": -60
    },
    "id": "fb3ddb64-dda2-44ae-8618-26ddccace2da",
    "outputId": "c469b0c2-525c-4c90-8143-5f5d6f3055eb"
   },
   "outputs": [
    {
     "data": {
      "text/html": [
       "<div>\n",
       "<style scoped>\n",
       "    .dataframe tbody tr th:only-of-type {\n",
       "        vertical-align: middle;\n",
       "    }\n",
       "\n",
       "    .dataframe tbody tr th {\n",
       "        vertical-align: top;\n",
       "    }\n",
       "\n",
       "    .dataframe thead th {\n",
       "        text-align: right;\n",
       "    }\n",
       "</style>\n",
       "<table border=\"1\" class=\"dataframe\">\n",
       "  <thead>\n",
       "    <tr style=\"text-align: right;\">\n",
       "      <th></th>\n",
       "      <th>Region</th>\n",
       "      <th>Soil_Type</th>\n",
       "      <th>Crop</th>\n",
       "      <th>Rainfall_mm</th>\n",
       "      <th>Temperature_Celsius</th>\n",
       "      <th>Fertilizer_Used</th>\n",
       "      <th>Irrigation_Used</th>\n",
       "      <th>Weather_Condition</th>\n",
       "      <th>Days_to_Harvest</th>\n",
       "      <th>Yield_tons_per_hectare</th>\n",
       "    </tr>\n",
       "  </thead>\n",
       "  <tbody>\n",
       "    <tr>\n",
       "      <th>0</th>\n",
       "      <td>West</td>\n",
       "      <td>Sandy</td>\n",
       "      <td>Cotton</td>\n",
       "      <td>897.077239</td>\n",
       "      <td>27.676966</td>\n",
       "      <td>False</td>\n",
       "      <td>True</td>\n",
       "      <td>Cloudy</td>\n",
       "      <td>122</td>\n",
       "      <td>6.555816</td>\n",
       "    </tr>\n",
       "    <tr>\n",
       "      <th>1</th>\n",
       "      <td>South</td>\n",
       "      <td>Clay</td>\n",
       "      <td>Rice</td>\n",
       "      <td>992.673282</td>\n",
       "      <td>18.026142</td>\n",
       "      <td>True</td>\n",
       "      <td>True</td>\n",
       "      <td>Rainy</td>\n",
       "      <td>140</td>\n",
       "      <td>8.527341</td>\n",
       "    </tr>\n",
       "    <tr>\n",
       "      <th>2</th>\n",
       "      <td>North</td>\n",
       "      <td>Loam</td>\n",
       "      <td>Barley</td>\n",
       "      <td>147.998025</td>\n",
       "      <td>29.794042</td>\n",
       "      <td>False</td>\n",
       "      <td>False</td>\n",
       "      <td>Sunny</td>\n",
       "      <td>106</td>\n",
       "      <td>1.127443</td>\n",
       "    </tr>\n",
       "    <tr>\n",
       "      <th>3</th>\n",
       "      <td>North</td>\n",
       "      <td>Sandy</td>\n",
       "      <td>Soybean</td>\n",
       "      <td>986.866331</td>\n",
       "      <td>16.644190</td>\n",
       "      <td>False</td>\n",
       "      <td>True</td>\n",
       "      <td>Rainy</td>\n",
       "      <td>146</td>\n",
       "      <td>6.517573</td>\n",
       "    </tr>\n",
       "    <tr>\n",
       "      <th>4</th>\n",
       "      <td>South</td>\n",
       "      <td>Silt</td>\n",
       "      <td>Wheat</td>\n",
       "      <td>730.379174</td>\n",
       "      <td>31.620687</td>\n",
       "      <td>True</td>\n",
       "      <td>True</td>\n",
       "      <td>Cloudy</td>\n",
       "      <td>110</td>\n",
       "      <td>7.248251</td>\n",
       "    </tr>\n",
       "  </tbody>\n",
       "</table>\n",
       "</div>"
      ],
      "text/plain": [
       "  Region Soil_Type     Crop  Rainfall_mm  Temperature_Celsius  \\\n",
       "0   West     Sandy   Cotton   897.077239            27.676966   \n",
       "1  South      Clay     Rice   992.673282            18.026142   \n",
       "2  North      Loam   Barley   147.998025            29.794042   \n",
       "3  North     Sandy  Soybean   986.866331            16.644190   \n",
       "4  South      Silt    Wheat   730.379174            31.620687   \n",
       "\n",
       "   Fertilizer_Used  Irrigation_Used Weather_Condition  Days_to_Harvest  \\\n",
       "0            False             True            Cloudy              122   \n",
       "1             True             True             Rainy              140   \n",
       "2            False            False             Sunny              106   \n",
       "3            False             True             Rainy              146   \n",
       "4             True             True            Cloudy              110   \n",
       "\n",
       "   Yield_tons_per_hectare  \n",
       "0                6.555816  \n",
       "1                8.527341  \n",
       "2                1.127443  \n",
       "3                6.517573  \n",
       "4                7.248251  "
      ]
     },
     "execution_count": 3,
     "metadata": {},
     "output_type": "execute_result"
    }
   ],
   "source": [
    "crop = load_crop_data()\n",
    "crop.head()"
   ]
  },
  {
   "cell_type": "code",
   "execution_count": 4,
   "id": "180d8234-90f3-45d2-91ac-653ac34fdf4a",
   "metadata": {
    "executionInfo": {
     "elapsed": 5,
     "status": "ok",
     "timestamp": 1743009695019,
     "user": {
      "displayName": "Michael Babajide",
      "userId": "14171008162149959629"
     },
     "user_tz": -60
    },
    "id": "180d8234-90f3-45d2-91ac-653ac34fdf4a"
   },
   "outputs": [],
   "source": [
    "#makes each column name lowercase and replaces spaces with underscores\n",
    "crop.columns = crop.columns.str.lower().str.replace(' ','_')"
   ]
  },
  {
   "cell_type": "code",
   "execution_count": 5,
   "id": "322a7285-0c28-4046-a9cd-2264fe83a348",
   "metadata": {
    "executionInfo": {
     "elapsed": 1564,
     "status": "ok",
     "timestamp": 1743009697267,
     "user": {
      "displayName": "Michael Babajide",
      "userId": "14171008162149959629"
     },
     "user_tz": -60
    },
    "id": "322a7285-0c28-4046-a9cd-2264fe83a348"
   },
   "outputs": [],
   "source": [
    "#makes every element in the dataframe lowercase and replaces spaces with underscores\n",
    "columns = list(crop.dtypes[crop.dtypes == 'object'].index)\n",
    "for col in columns:\n",
    "    crop[col] = crop[col].str.lower().str.replace(' ','_')"
   ]
  },
  {
   "cell_type": "code",
   "execution_count": 29,
   "id": "53e6ce21-e877-420b-8907-69e0fdeb3779",
   "metadata": {
    "id": "53e6ce21-e877-420b-8907-69e0fdeb3779",
    "outputId": "0aede488-304c-46e6-e28e-a75fc9472cb6"
   },
   "outputs": [
    {
     "data": {
      "text/html": [
       "<div>\n",
       "<style scoped>\n",
       "    .dataframe tbody tr th:only-of-type {\n",
       "        vertical-align: middle;\n",
       "    }\n",
       "\n",
       "    .dataframe tbody tr th {\n",
       "        vertical-align: top;\n",
       "    }\n",
       "\n",
       "    .dataframe thead th {\n",
       "        text-align: right;\n",
       "    }\n",
       "</style>\n",
       "<table border=\"1\" class=\"dataframe\">\n",
       "  <thead>\n",
       "    <tr style=\"text-align: right;\">\n",
       "      <th></th>\n",
       "      <th>region</th>\n",
       "      <th>soil_type</th>\n",
       "      <th>crop</th>\n",
       "      <th>rainfall_mm</th>\n",
       "      <th>temperature_celsius</th>\n",
       "      <th>fertilizer_used</th>\n",
       "      <th>irrigation_used</th>\n",
       "      <th>weather_condition</th>\n",
       "      <th>days_to_harvest</th>\n",
       "      <th>yield_tons_per_hectare</th>\n",
       "    </tr>\n",
       "  </thead>\n",
       "  <tbody>\n",
       "    <tr>\n",
       "      <th>0</th>\n",
       "      <td>west</td>\n",
       "      <td>sandy</td>\n",
       "      <td>cotton</td>\n",
       "      <td>897.077239</td>\n",
       "      <td>27.676966</td>\n",
       "      <td>False</td>\n",
       "      <td>True</td>\n",
       "      <td>cloudy</td>\n",
       "      <td>122</td>\n",
       "      <td>6.555816</td>\n",
       "    </tr>\n",
       "    <tr>\n",
       "      <th>1</th>\n",
       "      <td>south</td>\n",
       "      <td>clay</td>\n",
       "      <td>rice</td>\n",
       "      <td>992.673282</td>\n",
       "      <td>18.026142</td>\n",
       "      <td>True</td>\n",
       "      <td>True</td>\n",
       "      <td>rainy</td>\n",
       "      <td>140</td>\n",
       "      <td>8.527341</td>\n",
       "    </tr>\n",
       "    <tr>\n",
       "      <th>2</th>\n",
       "      <td>north</td>\n",
       "      <td>loam</td>\n",
       "      <td>barley</td>\n",
       "      <td>147.998025</td>\n",
       "      <td>29.794042</td>\n",
       "      <td>False</td>\n",
       "      <td>False</td>\n",
       "      <td>sunny</td>\n",
       "      <td>106</td>\n",
       "      <td>1.127443</td>\n",
       "    </tr>\n",
       "    <tr>\n",
       "      <th>3</th>\n",
       "      <td>north</td>\n",
       "      <td>sandy</td>\n",
       "      <td>soybean</td>\n",
       "      <td>986.866331</td>\n",
       "      <td>16.644190</td>\n",
       "      <td>False</td>\n",
       "      <td>True</td>\n",
       "      <td>rainy</td>\n",
       "      <td>146</td>\n",
       "      <td>6.517573</td>\n",
       "    </tr>\n",
       "    <tr>\n",
       "      <th>4</th>\n",
       "      <td>south</td>\n",
       "      <td>silt</td>\n",
       "      <td>wheat</td>\n",
       "      <td>730.379174</td>\n",
       "      <td>31.620687</td>\n",
       "      <td>True</td>\n",
       "      <td>True</td>\n",
       "      <td>cloudy</td>\n",
       "      <td>110</td>\n",
       "      <td>7.248251</td>\n",
       "    </tr>\n",
       "  </tbody>\n",
       "</table>\n",
       "</div>"
      ],
      "text/plain": [
       "  region soil_type     crop  rainfall_mm  temperature_celsius  \\\n",
       "0   west     sandy   cotton   897.077239            27.676966   \n",
       "1  south      clay     rice   992.673282            18.026142   \n",
       "2  north      loam   barley   147.998025            29.794042   \n",
       "3  north     sandy  soybean   986.866331            16.644190   \n",
       "4  south      silt    wheat   730.379174            31.620687   \n",
       "\n",
       "   fertilizer_used  irrigation_used weather_condition  days_to_harvest  \\\n",
       "0            False             True            cloudy              122   \n",
       "1             True             True             rainy              140   \n",
       "2            False            False             sunny              106   \n",
       "3            False             True             rainy              146   \n",
       "4             True             True            cloudy              110   \n",
       "\n",
       "   yield_tons_per_hectare  \n",
       "0                6.555816  \n",
       "1                8.527341  \n",
       "2                1.127443  \n",
       "3                6.517573  \n",
       "4                7.248251  "
      ]
     },
     "execution_count": 29,
     "metadata": {},
     "output_type": "execute_result"
    }
   ],
   "source": [
    "crop.head()"
   ]
  },
  {
   "cell_type": "code",
   "execution_count": null,
   "id": "fbb13332-6e07-41ec-a699-c278bfc7ffd8",
   "metadata": {
    "id": "fbb13332-6e07-41ec-a699-c278bfc7ffd8",
    "outputId": "509bc291-ee88-4822-f57a-e7ec2e9efd8a"
   },
   "outputs": [
    {
     "data": {
      "text/html": [
       "<div>\n",
       "<style scoped>\n",
       "    .dataframe tbody tr th:only-of-type {\n",
       "        vertical-align: middle;\n",
       "    }\n",
       "\n",
       "    .dataframe tbody tr th {\n",
       "        vertical-align: top;\n",
       "    }\n",
       "\n",
       "    .dataframe thead th {\n",
       "        text-align: right;\n",
       "    }\n",
       "</style>\n",
       "<table border=\"1\" class=\"dataframe\">\n",
       "  <thead>\n",
       "    <tr style=\"text-align: right;\">\n",
       "      <th></th>\n",
       "      <th>0</th>\n",
       "      <th>1</th>\n",
       "      <th>2</th>\n",
       "      <th>3</th>\n",
       "      <th>4</th>\n",
       "      <th>5</th>\n",
       "      <th>6</th>\n",
       "      <th>7</th>\n",
       "      <th>8</th>\n",
       "      <th>9</th>\n",
       "    </tr>\n",
       "  </thead>\n",
       "  <tbody>\n",
       "    <tr>\n",
       "      <th>region</th>\n",
       "      <td>west</td>\n",
       "      <td>south</td>\n",
       "      <td>north</td>\n",
       "      <td>north</td>\n",
       "      <td>south</td>\n",
       "      <td>south</td>\n",
       "      <td>west</td>\n",
       "      <td>south</td>\n",
       "      <td>north</td>\n",
       "      <td>west</td>\n",
       "    </tr>\n",
       "    <tr>\n",
       "      <th>soil_type</th>\n",
       "      <td>sandy</td>\n",
       "      <td>clay</td>\n",
       "      <td>loam</td>\n",
       "      <td>sandy</td>\n",
       "      <td>silt</td>\n",
       "      <td>silt</td>\n",
       "      <td>clay</td>\n",
       "      <td>sandy</td>\n",
       "      <td>silt</td>\n",
       "      <td>sandy</td>\n",
       "    </tr>\n",
       "    <tr>\n",
       "      <th>crop</th>\n",
       "      <td>cotton</td>\n",
       "      <td>rice</td>\n",
       "      <td>barley</td>\n",
       "      <td>soybean</td>\n",
       "      <td>wheat</td>\n",
       "      <td>soybean</td>\n",
       "      <td>wheat</td>\n",
       "      <td>rice</td>\n",
       "      <td>wheat</td>\n",
       "      <td>wheat</td>\n",
       "    </tr>\n",
       "    <tr>\n",
       "      <th>rainfall_mm</th>\n",
       "      <td>897.077239</td>\n",
       "      <td>992.673282</td>\n",
       "      <td>147.998025</td>\n",
       "      <td>986.866331</td>\n",
       "      <td>730.379174</td>\n",
       "      <td>797.471182</td>\n",
       "      <td>357.902357</td>\n",
       "      <td>441.131154</td>\n",
       "      <td>181.587861</td>\n",
       "      <td>395.048968</td>\n",
       "    </tr>\n",
       "    <tr>\n",
       "      <th>temperature_celsius</th>\n",
       "      <td>27.676966</td>\n",
       "      <td>18.026142</td>\n",
       "      <td>29.794042</td>\n",
       "      <td>16.64419</td>\n",
       "      <td>31.620687</td>\n",
       "      <td>37.704974</td>\n",
       "      <td>31.593431</td>\n",
       "      <td>30.887107</td>\n",
       "      <td>26.752729</td>\n",
       "      <td>17.646199</td>\n",
       "    </tr>\n",
       "    <tr>\n",
       "      <th>fertilizer_used</th>\n",
       "      <td>False</td>\n",
       "      <td>True</td>\n",
       "      <td>False</td>\n",
       "      <td>False</td>\n",
       "      <td>True</td>\n",
       "      <td>False</td>\n",
       "      <td>False</td>\n",
       "      <td>True</td>\n",
       "      <td>True</td>\n",
       "      <td>False</td>\n",
       "    </tr>\n",
       "    <tr>\n",
       "      <th>irrigation_used</th>\n",
       "      <td>True</td>\n",
       "      <td>True</td>\n",
       "      <td>False</td>\n",
       "      <td>True</td>\n",
       "      <td>True</td>\n",
       "      <td>True</td>\n",
       "      <td>False</td>\n",
       "      <td>True</td>\n",
       "      <td>False</td>\n",
       "      <td>True</td>\n",
       "    </tr>\n",
       "    <tr>\n",
       "      <th>weather_condition</th>\n",
       "      <td>cloudy</td>\n",
       "      <td>rainy</td>\n",
       "      <td>sunny</td>\n",
       "      <td>rainy</td>\n",
       "      <td>cloudy</td>\n",
       "      <td>rainy</td>\n",
       "      <td>rainy</td>\n",
       "      <td>sunny</td>\n",
       "      <td>sunny</td>\n",
       "      <td>rainy</td>\n",
       "    </tr>\n",
       "    <tr>\n",
       "      <th>days_to_harvest</th>\n",
       "      <td>122</td>\n",
       "      <td>140</td>\n",
       "      <td>106</td>\n",
       "      <td>146</td>\n",
       "      <td>110</td>\n",
       "      <td>74</td>\n",
       "      <td>90</td>\n",
       "      <td>61</td>\n",
       "      <td>127</td>\n",
       "      <td>140</td>\n",
       "    </tr>\n",
       "    <tr>\n",
       "      <th>yield_tons_per_hectare</th>\n",
       "      <td>6.555816</td>\n",
       "      <td>8.527341</td>\n",
       "      <td>1.127443</td>\n",
       "      <td>6.517573</td>\n",
       "      <td>7.248251</td>\n",
       "      <td>5.898416</td>\n",
       "      <td>2.652392</td>\n",
       "      <td>5.829542</td>\n",
       "      <td>2.943716</td>\n",
       "      <td>3.707293</td>\n",
       "    </tr>\n",
       "  </tbody>\n",
       "</table>\n",
       "</div>"
      ],
      "text/plain": [
       "                                 0           1           2           3  \\\n",
       "region                        west       south       north       north   \n",
       "soil_type                    sandy        clay        loam       sandy   \n",
       "crop                        cotton        rice      barley     soybean   \n",
       "rainfall_mm             897.077239  992.673282  147.998025  986.866331   \n",
       "temperature_celsius      27.676966   18.026142   29.794042    16.64419   \n",
       "fertilizer_used              False        True       False       False   \n",
       "irrigation_used               True        True       False        True   \n",
       "weather_condition           cloudy       rainy       sunny       rainy   \n",
       "days_to_harvest                122         140         106         146   \n",
       "yield_tons_per_hectare    6.555816    8.527341    1.127443    6.517573   \n",
       "\n",
       "                                 4           5           6           7  \\\n",
       "region                       south       south        west       south   \n",
       "soil_type                     silt        silt        clay       sandy   \n",
       "crop                         wheat     soybean       wheat        rice   \n",
       "rainfall_mm             730.379174  797.471182  357.902357  441.131154   \n",
       "temperature_celsius      31.620687   37.704974   31.593431   30.887107   \n",
       "fertilizer_used               True       False       False        True   \n",
       "irrigation_used               True        True       False        True   \n",
       "weather_condition           cloudy       rainy       rainy       sunny   \n",
       "days_to_harvest                110          74          90          61   \n",
       "yield_tons_per_hectare    7.248251    5.898416    2.652392    5.829542   \n",
       "\n",
       "                                 8           9  \n",
       "region                       north        west  \n",
       "soil_type                     silt       sandy  \n",
       "crop                         wheat       wheat  \n",
       "rainfall_mm             181.587861  395.048968  \n",
       "temperature_celsius      26.752729   17.646199  \n",
       "fertilizer_used               True       False  \n",
       "irrigation_used              False        True  \n",
       "weather_condition            sunny       rainy  \n",
       "days_to_harvest                127         140  \n",
       "yield_tons_per_hectare    2.943716    3.707293  "
      ]
     },
     "execution_count": 7,
     "metadata": {},
     "output_type": "execute_result"
    }
   ],
   "source": [
    "crop.head(10).T"
   ]
  },
  {
   "cell_type": "code",
   "execution_count": null,
   "id": "04fa66f4-b74d-4a4b-96d8-2d1b76d5afd6",
   "metadata": {
    "id": "04fa66f4-b74d-4a4b-96d8-2d1b76d5afd6",
    "outputId": "2ce3160a-835c-4b10-bbf3-eebf00940726"
   },
   "outputs": [
    {
     "name": "stdout",
     "output_type": "stream",
     "text": [
      "<class 'pandas.core.frame.DataFrame'>\n",
      "RangeIndex: 1000000 entries, 0 to 999999\n",
      "Data columns (total 10 columns):\n",
      " #   Column                  Non-Null Count    Dtype  \n",
      "---  ------                  --------------    -----  \n",
      " 0   region                  1000000 non-null  object \n",
      " 1   soil_type               1000000 non-null  object \n",
      " 2   crop                    1000000 non-null  object \n",
      " 3   rainfall_mm             1000000 non-null  float64\n",
      " 4   temperature_celsius     1000000 non-null  float64\n",
      " 5   fertilizer_used         1000000 non-null  bool   \n",
      " 6   irrigation_used         1000000 non-null  bool   \n",
      " 7   weather_condition       1000000 non-null  object \n",
      " 8   days_to_harvest         1000000 non-null  int64  \n",
      " 9   yield_tons_per_hectare  1000000 non-null  float64\n",
      "dtypes: bool(2), float64(3), int64(1), object(4)\n",
      "memory usage: 62.9+ MB\n"
     ]
    }
   ],
   "source": [
    "crop.info()"
   ]
  },
  {
   "cell_type": "markdown",
   "id": "3c19b8de-8b4d-447b-ab96-89c03e892d44",
   "metadata": {
    "id": "3c19b8de-8b4d-447b-ab96-89c03e892d44"
   },
   "source": [
    "There are 10 columns in total, three numerical and six categorical features. `Yield_tons_per_hectare ` is the label and will be separated from the features."
   ]
  },
  {
   "cell_type": "code",
   "execution_count": null,
   "id": "ab086128-6f96-4c17-97d7-05ed71281f32",
   "metadata": {
    "id": "ab086128-6f96-4c17-97d7-05ed71281f32",
    "outputId": "866a5cd6-2b30-4739-f39e-8860a7ce9d6d"
   },
   "outputs": [
    {
     "data": {
      "text/html": [
       "<div>\n",
       "<style scoped>\n",
       "    .dataframe tbody tr th:only-of-type {\n",
       "        vertical-align: middle;\n",
       "    }\n",
       "\n",
       "    .dataframe tbody tr th {\n",
       "        vertical-align: top;\n",
       "    }\n",
       "\n",
       "    .dataframe thead th {\n",
       "        text-align: right;\n",
       "    }\n",
       "</style>\n",
       "<table border=\"1\" class=\"dataframe\">\n",
       "  <thead>\n",
       "    <tr style=\"text-align: right;\">\n",
       "      <th></th>\n",
       "      <th>rainfall_mm</th>\n",
       "      <th>temperature_celsius</th>\n",
       "      <th>days_to_harvest</th>\n",
       "      <th>yield_tons_per_hectare</th>\n",
       "    </tr>\n",
       "  </thead>\n",
       "  <tbody>\n",
       "    <tr>\n",
       "      <th>count</th>\n",
       "      <td>1000000.000000</td>\n",
       "      <td>1000000.000000</td>\n",
       "      <td>1000000.000000</td>\n",
       "      <td>1000000.000000</td>\n",
       "    </tr>\n",
       "    <tr>\n",
       "      <th>mean</th>\n",
       "      <td>549.981901</td>\n",
       "      <td>27.504965</td>\n",
       "      <td>104.495025</td>\n",
       "      <td>4.649472</td>\n",
       "    </tr>\n",
       "    <tr>\n",
       "      <th>std</th>\n",
       "      <td>259.851320</td>\n",
       "      <td>7.220608</td>\n",
       "      <td>25.953412</td>\n",
       "      <td>1.696572</td>\n",
       "    </tr>\n",
       "    <tr>\n",
       "      <th>min</th>\n",
       "      <td>100.000896</td>\n",
       "      <td>15.000034</td>\n",
       "      <td>60.000000</td>\n",
       "      <td>-1.147613</td>\n",
       "    </tr>\n",
       "    <tr>\n",
       "      <th>25%</th>\n",
       "      <td>324.891090</td>\n",
       "      <td>21.254502</td>\n",
       "      <td>82.000000</td>\n",
       "      <td>3.417637</td>\n",
       "    </tr>\n",
       "    <tr>\n",
       "      <th>50%</th>\n",
       "      <td>550.124061</td>\n",
       "      <td>27.507365</td>\n",
       "      <td>104.000000</td>\n",
       "      <td>4.651808</td>\n",
       "    </tr>\n",
       "    <tr>\n",
       "      <th>75%</th>\n",
       "      <td>774.738520</td>\n",
       "      <td>33.753267</td>\n",
       "      <td>127.000000</td>\n",
       "      <td>5.879200</td>\n",
       "    </tr>\n",
       "    <tr>\n",
       "      <th>max</th>\n",
       "      <td>999.998098</td>\n",
       "      <td>39.999997</td>\n",
       "      <td>149.000000</td>\n",
       "      <td>9.963372</td>\n",
       "    </tr>\n",
       "  </tbody>\n",
       "</table>\n",
       "</div>"
      ],
      "text/plain": [
       "          rainfall_mm  temperature_celsius  days_to_harvest  \\\n",
       "count  1000000.000000       1000000.000000   1000000.000000   \n",
       "mean       549.981901            27.504965       104.495025   \n",
       "std        259.851320             7.220608        25.953412   \n",
       "min        100.000896            15.000034        60.000000   \n",
       "25%        324.891090            21.254502        82.000000   \n",
       "50%        550.124061            27.507365       104.000000   \n",
       "75%        774.738520            33.753267       127.000000   \n",
       "max        999.998098            39.999997       149.000000   \n",
       "\n",
       "       yield_tons_per_hectare  \n",
       "count          1000000.000000  \n",
       "mean                 4.649472  \n",
       "std                  1.696572  \n",
       "min                 -1.147613  \n",
       "25%                  3.417637  \n",
       "50%                  4.651808  \n",
       "75%                  5.879200  \n",
       "max                  9.963372  "
      ]
     },
     "execution_count": 9,
     "metadata": {},
     "output_type": "execute_result"
    }
   ],
   "source": [
    "crop.describe()"
   ]
  },
  {
   "cell_type": "markdown",
   "id": "920ea4b5-9f47-4a8f-86eb-e616966d97d4",
   "metadata": {
    "id": "920ea4b5-9f47-4a8f-86eb-e616966d97d4"
   },
   "source": [
    "We can see there is **negative** `yield_tons_per_hectare` which is not physically possible because it represents total crop yield produced which is a non-negative quantity.\n",
    "So we may eliminate corresponding rows to prevent our model from learning to reproduce it."
   ]
  },
  {
   "cell_type": "code",
   "execution_count": null,
   "id": "60cee0e1-0a13-4843-b2a9-c1b8defd800c",
   "metadata": {
    "colab": {
     "base_uri": "https://localhost:8080/"
    },
    "id": "60cee0e1-0a13-4843-b2a9-c1b8defd800c",
    "outputId": "c810f013-fe8b-42dd-a3f9-65f15efa6d73"
   },
   "outputs": [
    {
     "data": {
      "text/plain": [
       "231"
      ]
     },
     "execution_count": 7,
     "metadata": {},
     "output_type": "execute_result"
    }
   ],
   "source": [
    "len(crop[crop['yield_tons_per_hectare'] < 0])"
   ]
  },
  {
   "cell_type": "code",
   "execution_count": 6,
   "id": "9e0b4719-5344-426e-acae-6783f7fd4e4e",
   "metadata": {
    "executionInfo": {
     "elapsed": 105,
     "status": "ok",
     "timestamp": 1743009705132,
     "user": {
      "displayName": "Michael Babajide",
      "userId": "14171008162149959629"
     },
     "user_tz": -60
    },
    "id": "9e0b4719-5344-426e-acae-6783f7fd4e4e"
   },
   "outputs": [],
   "source": [
    "crop = crop[crop['yield_tons_per_hectare'] >= 0]"
   ]
  },
  {
   "cell_type": "markdown",
   "id": "a5d55377-b1f9-4d90-9d64-8ef47efcadd5",
   "metadata": {
    "id": "a5d55377-b1f9-4d90-9d64-8ef47efcadd5"
   },
   "source": [
    "Remove rows that contain negative `yield_tons_per_hectare` before train_test_split"
   ]
  },
  {
   "cell_type": "code",
   "execution_count": null,
   "id": "18bfc60d-b65d-4eb6-ac35-b4d43adb251e",
   "metadata": {
    "colab": {
     "base_uri": "https://localhost:8080/"
    },
    "id": "18bfc60d-b65d-4eb6-ac35-b4d43adb251e",
    "outputId": "71674145-5a9c-4b3c-a0e9-645a1047421a"
   },
   "outputs": [
    {
     "data": {
      "text/plain": [
       "0"
      ]
     },
     "execution_count": 14,
     "metadata": {},
     "output_type": "execute_result"
    }
   ],
   "source": [
    "len(crop[crop['yield_tons_per_hectare'] < 0])"
   ]
  },
  {
   "cell_type": "markdown",
   "id": "db7889ec-9280-403f-a40c-8ac23840bf93",
   "metadata": {
    "id": "db7889ec-9280-403f-a40c-8ac23840bf93"
   },
   "source": [
    "We also have `Boolean` type in the dataset, we need to convert to in"
   ]
  },
  {
   "cell_type": "code",
   "execution_count": 7,
   "id": "39256626-0bee-4efe-b0bd-60190a30f205",
   "metadata": {
    "executionInfo": {
     "elapsed": 30,
     "status": "ok",
     "timestamp": 1743009708478,
     "user": {
      "displayName": "Michael Babajide",
      "userId": "14171008162149959629"
     },
     "user_tz": -60
    },
    "id": "39256626-0bee-4efe-b0bd-60190a30f205"
   },
   "outputs": [],
   "source": [
    "crop['fertilizer_used'] = (crop['fertilizer_used'] == True).astype(int)\n",
    "crop['irrigation_used'] = (crop['irrigation_used'] == True).astype(int)"
   ]
  },
  {
   "cell_type": "code",
   "execution_count": null,
   "id": "1f7a4490-fa3f-4427-8bf9-4d038c5e9a7c",
   "metadata": {
    "colab": {
     "base_uri": "https://localhost:8080/",
     "height": 206
    },
    "id": "1f7a4490-fa3f-4427-8bf9-4d038c5e9a7c",
    "outputId": "37270717-7bb1-4116-baa9-ad8862553367"
   },
   "outputs": [
    {
     "data": {
      "application/vnd.google.colaboratory.intrinsic+json": {
       "type": "dataframe",
       "variable_name": "crop"
      },
      "text/html": [
       "\n",
       "  <div id=\"df-e183193d-33d3-4266-b372-c68771800dc1\" class=\"colab-df-container\">\n",
       "    <div>\n",
       "<style scoped>\n",
       "    .dataframe tbody tr th:only-of-type {\n",
       "        vertical-align: middle;\n",
       "    }\n",
       "\n",
       "    .dataframe tbody tr th {\n",
       "        vertical-align: top;\n",
       "    }\n",
       "\n",
       "    .dataframe thead th {\n",
       "        text-align: right;\n",
       "    }\n",
       "</style>\n",
       "<table border=\"1\" class=\"dataframe\">\n",
       "  <thead>\n",
       "    <tr style=\"text-align: right;\">\n",
       "      <th></th>\n",
       "      <th>region</th>\n",
       "      <th>soil_type</th>\n",
       "      <th>crop</th>\n",
       "      <th>rainfall_mm</th>\n",
       "      <th>temperature_celsius</th>\n",
       "      <th>fertilizer_used</th>\n",
       "      <th>irrigation_used</th>\n",
       "      <th>weather_condition</th>\n",
       "      <th>days_to_harvest</th>\n",
       "      <th>yield_tons_per_hectare</th>\n",
       "    </tr>\n",
       "  </thead>\n",
       "  <tbody>\n",
       "    <tr>\n",
       "      <th>0</th>\n",
       "      <td>west</td>\n",
       "      <td>sandy</td>\n",
       "      <td>cotton</td>\n",
       "      <td>897.077239</td>\n",
       "      <td>27.676966</td>\n",
       "      <td>0</td>\n",
       "      <td>1</td>\n",
       "      <td>cloudy</td>\n",
       "      <td>122</td>\n",
       "      <td>6.555816</td>\n",
       "    </tr>\n",
       "    <tr>\n",
       "      <th>1</th>\n",
       "      <td>south</td>\n",
       "      <td>clay</td>\n",
       "      <td>rice</td>\n",
       "      <td>992.673282</td>\n",
       "      <td>18.026142</td>\n",
       "      <td>1</td>\n",
       "      <td>1</td>\n",
       "      <td>rainy</td>\n",
       "      <td>140</td>\n",
       "      <td>8.527341</td>\n",
       "    </tr>\n",
       "    <tr>\n",
       "      <th>2</th>\n",
       "      <td>north</td>\n",
       "      <td>loam</td>\n",
       "      <td>barley</td>\n",
       "      <td>147.998025</td>\n",
       "      <td>29.794042</td>\n",
       "      <td>0</td>\n",
       "      <td>0</td>\n",
       "      <td>sunny</td>\n",
       "      <td>106</td>\n",
       "      <td>1.127443</td>\n",
       "    </tr>\n",
       "    <tr>\n",
       "      <th>3</th>\n",
       "      <td>north</td>\n",
       "      <td>sandy</td>\n",
       "      <td>soybean</td>\n",
       "      <td>986.866331</td>\n",
       "      <td>16.644190</td>\n",
       "      <td>0</td>\n",
       "      <td>1</td>\n",
       "      <td>rainy</td>\n",
       "      <td>146</td>\n",
       "      <td>6.517573</td>\n",
       "    </tr>\n",
       "    <tr>\n",
       "      <th>4</th>\n",
       "      <td>south</td>\n",
       "      <td>silt</td>\n",
       "      <td>wheat</td>\n",
       "      <td>730.379174</td>\n",
       "      <td>31.620687</td>\n",
       "      <td>1</td>\n",
       "      <td>1</td>\n",
       "      <td>cloudy</td>\n",
       "      <td>110</td>\n",
       "      <td>7.248251</td>\n",
       "    </tr>\n",
       "  </tbody>\n",
       "</table>\n",
       "</div>\n",
       "    <div class=\"colab-df-buttons\">\n",
       "\n",
       "  <div class=\"colab-df-container\">\n",
       "    <button class=\"colab-df-convert\" onclick=\"convertToInteractive('df-e183193d-33d3-4266-b372-c68771800dc1')\"\n",
       "            title=\"Convert this dataframe to an interactive table.\"\n",
       "            style=\"display:none;\">\n",
       "\n",
       "  <svg xmlns=\"http://www.w3.org/2000/svg\" height=\"24px\" viewBox=\"0 -960 960 960\">\n",
       "    <path d=\"M120-120v-720h720v720H120Zm60-500h600v-160H180v160Zm220 220h160v-160H400v160Zm0 220h160v-160H400v160ZM180-400h160v-160H180v160Zm440 0h160v-160H620v160ZM180-180h160v-160H180v160Zm440 0h160v-160H620v160Z\"/>\n",
       "  </svg>\n",
       "    </button>\n",
       "\n",
       "  <style>\n",
       "    .colab-df-container {\n",
       "      display:flex;\n",
       "      gap: 12px;\n",
       "    }\n",
       "\n",
       "    .colab-df-convert {\n",
       "      background-color: #E8F0FE;\n",
       "      border: none;\n",
       "      border-radius: 50%;\n",
       "      cursor: pointer;\n",
       "      display: none;\n",
       "      fill: #1967D2;\n",
       "      height: 32px;\n",
       "      padding: 0 0 0 0;\n",
       "      width: 32px;\n",
       "    }\n",
       "\n",
       "    .colab-df-convert:hover {\n",
       "      background-color: #E2EBFA;\n",
       "      box-shadow: 0px 1px 2px rgba(60, 64, 67, 0.3), 0px 1px 3px 1px rgba(60, 64, 67, 0.15);\n",
       "      fill: #174EA6;\n",
       "    }\n",
       "\n",
       "    .colab-df-buttons div {\n",
       "      margin-bottom: 4px;\n",
       "    }\n",
       "\n",
       "    [theme=dark] .colab-df-convert {\n",
       "      background-color: #3B4455;\n",
       "      fill: #D2E3FC;\n",
       "    }\n",
       "\n",
       "    [theme=dark] .colab-df-convert:hover {\n",
       "      background-color: #434B5C;\n",
       "      box-shadow: 0px 1px 3px 1px rgba(0, 0, 0, 0.15);\n",
       "      filter: drop-shadow(0px 1px 2px rgba(0, 0, 0, 0.3));\n",
       "      fill: #FFFFFF;\n",
       "    }\n",
       "  </style>\n",
       "\n",
       "    <script>\n",
       "      const buttonEl =\n",
       "        document.querySelector('#df-e183193d-33d3-4266-b372-c68771800dc1 button.colab-df-convert');\n",
       "      buttonEl.style.display =\n",
       "        google.colab.kernel.accessAllowed ? 'block' : 'none';\n",
       "\n",
       "      async function convertToInteractive(key) {\n",
       "        const element = document.querySelector('#df-e183193d-33d3-4266-b372-c68771800dc1');\n",
       "        const dataTable =\n",
       "          await google.colab.kernel.invokeFunction('convertToInteractive',\n",
       "                                                    [key], {});\n",
       "        if (!dataTable) return;\n",
       "\n",
       "        const docLinkHtml = 'Like what you see? Visit the ' +\n",
       "          '<a target=\"_blank\" href=https://colab.research.google.com/notebooks/data_table.ipynb>data table notebook</a>'\n",
       "          + ' to learn more about interactive tables.';\n",
       "        element.innerHTML = '';\n",
       "        dataTable['output_type'] = 'display_data';\n",
       "        await google.colab.output.renderOutput(dataTable, element);\n",
       "        const docLink = document.createElement('div');\n",
       "        docLink.innerHTML = docLinkHtml;\n",
       "        element.appendChild(docLink);\n",
       "      }\n",
       "    </script>\n",
       "  </div>\n",
       "\n",
       "\n",
       "<div id=\"df-0b0139ad-19a1-40b0-8d50-1fced6668094\">\n",
       "  <button class=\"colab-df-quickchart\" onclick=\"quickchart('df-0b0139ad-19a1-40b0-8d50-1fced6668094')\"\n",
       "            title=\"Suggest charts\"\n",
       "            style=\"display:none;\">\n",
       "\n",
       "<svg xmlns=\"http://www.w3.org/2000/svg\" height=\"24px\"viewBox=\"0 0 24 24\"\n",
       "     width=\"24px\">\n",
       "    <g>\n",
       "        <path d=\"M19 3H5c-1.1 0-2 .9-2 2v14c0 1.1.9 2 2 2h14c1.1 0 2-.9 2-2V5c0-1.1-.9-2-2-2zM9 17H7v-7h2v7zm4 0h-2V7h2v10zm4 0h-2v-4h2v4z\"/>\n",
       "    </g>\n",
       "</svg>\n",
       "  </button>\n",
       "\n",
       "<style>\n",
       "  .colab-df-quickchart {\n",
       "      --bg-color: #E8F0FE;\n",
       "      --fill-color: #1967D2;\n",
       "      --hover-bg-color: #E2EBFA;\n",
       "      --hover-fill-color: #174EA6;\n",
       "      --disabled-fill-color: #AAA;\n",
       "      --disabled-bg-color: #DDD;\n",
       "  }\n",
       "\n",
       "  [theme=dark] .colab-df-quickchart {\n",
       "      --bg-color: #3B4455;\n",
       "      --fill-color: #D2E3FC;\n",
       "      --hover-bg-color: #434B5C;\n",
       "      --hover-fill-color: #FFFFFF;\n",
       "      --disabled-bg-color: #3B4455;\n",
       "      --disabled-fill-color: #666;\n",
       "  }\n",
       "\n",
       "  .colab-df-quickchart {\n",
       "    background-color: var(--bg-color);\n",
       "    border: none;\n",
       "    border-radius: 50%;\n",
       "    cursor: pointer;\n",
       "    display: none;\n",
       "    fill: var(--fill-color);\n",
       "    height: 32px;\n",
       "    padding: 0;\n",
       "    width: 32px;\n",
       "  }\n",
       "\n",
       "  .colab-df-quickchart:hover {\n",
       "    background-color: var(--hover-bg-color);\n",
       "    box-shadow: 0 1px 2px rgba(60, 64, 67, 0.3), 0 1px 3px 1px rgba(60, 64, 67, 0.15);\n",
       "    fill: var(--button-hover-fill-color);\n",
       "  }\n",
       "\n",
       "  .colab-df-quickchart-complete:disabled,\n",
       "  .colab-df-quickchart-complete:disabled:hover {\n",
       "    background-color: var(--disabled-bg-color);\n",
       "    fill: var(--disabled-fill-color);\n",
       "    box-shadow: none;\n",
       "  }\n",
       "\n",
       "  .colab-df-spinner {\n",
       "    border: 2px solid var(--fill-color);\n",
       "    border-color: transparent;\n",
       "    border-bottom-color: var(--fill-color);\n",
       "    animation:\n",
       "      spin 1s steps(1) infinite;\n",
       "  }\n",
       "\n",
       "  @keyframes spin {\n",
       "    0% {\n",
       "      border-color: transparent;\n",
       "      border-bottom-color: var(--fill-color);\n",
       "      border-left-color: var(--fill-color);\n",
       "    }\n",
       "    20% {\n",
       "      border-color: transparent;\n",
       "      border-left-color: var(--fill-color);\n",
       "      border-top-color: var(--fill-color);\n",
       "    }\n",
       "    30% {\n",
       "      border-color: transparent;\n",
       "      border-left-color: var(--fill-color);\n",
       "      border-top-color: var(--fill-color);\n",
       "      border-right-color: var(--fill-color);\n",
       "    }\n",
       "    40% {\n",
       "      border-color: transparent;\n",
       "      border-right-color: var(--fill-color);\n",
       "      border-top-color: var(--fill-color);\n",
       "    }\n",
       "    60% {\n",
       "      border-color: transparent;\n",
       "      border-right-color: var(--fill-color);\n",
       "    }\n",
       "    80% {\n",
       "      border-color: transparent;\n",
       "      border-right-color: var(--fill-color);\n",
       "      border-bottom-color: var(--fill-color);\n",
       "    }\n",
       "    90% {\n",
       "      border-color: transparent;\n",
       "      border-bottom-color: var(--fill-color);\n",
       "    }\n",
       "  }\n",
       "</style>\n",
       "\n",
       "  <script>\n",
       "    async function quickchart(key) {\n",
       "      const quickchartButtonEl =\n",
       "        document.querySelector('#' + key + ' button');\n",
       "      quickchartButtonEl.disabled = true;  // To prevent multiple clicks.\n",
       "      quickchartButtonEl.classList.add('colab-df-spinner');\n",
       "      try {\n",
       "        const charts = await google.colab.kernel.invokeFunction(\n",
       "            'suggestCharts', [key], {});\n",
       "      } catch (error) {\n",
       "        console.error('Error during call to suggestCharts:', error);\n",
       "      }\n",
       "      quickchartButtonEl.classList.remove('colab-df-spinner');\n",
       "      quickchartButtonEl.classList.add('colab-df-quickchart-complete');\n",
       "    }\n",
       "    (() => {\n",
       "      let quickchartButtonEl =\n",
       "        document.querySelector('#df-0b0139ad-19a1-40b0-8d50-1fced6668094 button');\n",
       "      quickchartButtonEl.style.display =\n",
       "        google.colab.kernel.accessAllowed ? 'block' : 'none';\n",
       "    })();\n",
       "  </script>\n",
       "</div>\n",
       "\n",
       "    </div>\n",
       "  </div>\n"
      ],
      "text/plain": [
       "  region soil_type     crop  rainfall_mm  temperature_celsius  \\\n",
       "0   west     sandy   cotton   897.077239            27.676966   \n",
       "1  south      clay     rice   992.673282            18.026142   \n",
       "2  north      loam   barley   147.998025            29.794042   \n",
       "3  north     sandy  soybean   986.866331            16.644190   \n",
       "4  south      silt    wheat   730.379174            31.620687   \n",
       "\n",
       "   fertilizer_used  irrigation_used weather_condition  days_to_harvest  \\\n",
       "0                0                1            cloudy              122   \n",
       "1                1                1             rainy              140   \n",
       "2                0                0             sunny              106   \n",
       "3                0                1             rainy              146   \n",
       "4                1                1            cloudy              110   \n",
       "\n",
       "   yield_tons_per_hectare  \n",
       "0                6.555816  \n",
       "1                8.527341  \n",
       "2                1.127443  \n",
       "3                6.517573  \n",
       "4                7.248251  "
      ]
     },
     "execution_count": 16,
     "metadata": {},
     "output_type": "execute_result"
    }
   ],
   "source": [
    "crop.head()"
   ]
  },
  {
   "cell_type": "code",
   "execution_count": null,
   "id": "ea6b1dd9-32b4-4192-901f-425d220d3a0a",
   "metadata": {
    "id": "ea6b1dd9-32b4-4192-901f-425d220d3a0a",
    "outputId": "6a76ae66-f189-441d-e31d-7e8e065c8bb3"
   },
   "outputs": [
    {
     "data": {
      "text/plain": [
       "region                    0\n",
       "soil_type                 0\n",
       "crop                      0\n",
       "rainfall_mm               0\n",
       "temperature_celsius       0\n",
       "fertilizer_used           0\n",
       "irrigation_used           0\n",
       "weather_condition         0\n",
       "days_to_harvest           0\n",
       "yield_tons_per_hectare    0\n",
       "dtype: int64"
      ]
     },
     "execution_count": 16,
     "metadata": {},
     "output_type": "execute_result"
    }
   ],
   "source": [
    "crop.isnull().sum()"
   ]
  },
  {
   "cell_type": "code",
   "execution_count": null,
   "id": "f993022e-ddf3-4d35-9799-75385c8a295a",
   "metadata": {
    "id": "f993022e-ddf3-4d35-9799-75385c8a295a",
    "outputId": "948a4ceb-4f2c-46bf-fbf2-ebc2b45371ab"
   },
   "outputs": [
    {
     "data": {
      "image/png": "[encoded data removed]",
      "text/plain": [
       "<Figure size 1500x1000 with 6 Axes>"
      ]
     },
     "metadata": {},
     "output_type": "display_data"
    }
   ],
   "source": [
    "crop.hist(bins = 170, figsize = (15,10))\n",
    "plt.show()"
   ]
  },
  {
   "cell_type": "markdown",
   "id": "2602deb8-8869-4206-973b-2aa429cc0a5a",
   "metadata": {
    "id": "2602deb8-8869-4206-973b-2aa429cc0a5a"
   },
   "source": [
    "Here’s an explanation of each histogram:\n",
    "\n",
    "1. **Rainfall (rainfall_mm - Top Left)**  \n",
    "   - The histogram shows a uniform distribution, meaning rainfall values are evenly spread across the dataset.  \n",
    "   - This suggests there is no strong bias toward any specific rainfall amount, indicating a well-distributed dataset.  \n",
    "   - If analyzing crop yield, this suggests that crops are exposed to a variety of rainfall conditions, helping in understanding how different levels affect growth.\n",
    "\n",
    "2. **Temperature (temperature_celsius - Top Right)**  \n",
    "   - Similar to rainfall, the temperature data follows a uniform distribution.  \n",
    "   - This means temperature values range evenly from 15°C to 40°C, suggesting a wide variety of climate conditions.  \n",
    "   - This can be useful in understanding how yield responds to different temperature variations and determining the optimal range for farming.\n",
    "\n",
    "3. **Days to Harvest (days_to_harvest - Bottom Left)**  \n",
    "   - This histogram appears to be nearly uniform but with slight variations.  \n",
    "   - The dataset contains a broad range of harvest times from around 60 to 150 days, meaning different crops or varieties are considered.  \n",
    "   - Understanding how harvest time influences yield is essential for predicting optimal growing conditions.\n",
    "\n",
    "4. **Yield per Hectare (yield_tons_per_hectare - Bottom Right)**  \n",
    "   - The yield follows a **normal distribution** (bell-shaped curve), meaning most values are concentrated around a central point (mean yield), with fewer values on the extremes.  \n",
    "   - This suggests that under typical conditions, yield tends to cluster around an average, with fewer instances of extremely low or high yields.  \n",
    "   - This insight helps in identifying expected yield levels and understanding factors that lead to deviations from the mean.\n",
    "\n",
    "### Key Takeaways:\n",
    "- Rainfall and temperature exhibit **uniform distributions**, meaning a diverse range of conditions is considered.\n",
    "- Days to harvest has a **near-uniform** spread, indicating varying crop lifespans.\n",
    "- Yield follows a **normal distribution**, suggesting most yields are predictable around a mean value.\n",
    "- These insights can help optimize farming strategies by identifying environmental factors that most impact yield."
   ]
  },
  {
   "cell_type": "markdown",
   "id": "dc7b9bcd-f922-4ebd-b14e-4d28f5f749d6",
   "metadata": {
    "id": "dc7b9bcd-f922-4ebd-b14e-4d28f5f749d6"
   },
   "source": [
    "#### Train_Test_Split"
   ]
  },
  {
   "cell_type": "code",
   "execution_count": 8,
   "id": "da95baac-b292-4aa0-a7e7-12cf16348ced",
   "metadata": {
    "executionInfo": {
     "elapsed": 1033,
     "status": "ok",
     "timestamp": 1743021763125,
     "user": {
      "displayName": "Michael Babajide",
      "userId": "14171008162149959629"
     },
     "user_tz": -60
    },
    "id": "da95baac-b292-4aa0-a7e7-12cf16348ced"
   },
   "outputs": [],
   "source": [
    "crop_train_full, crop_test = sklearn.model_selection.train_test_split(crop, test_size = 0.2, random_state = 42)"
   ]
  },
  {
   "cell_type": "code",
   "execution_count": 9,
   "id": "c51b5cb0-5813-4f11-859d-88f4814699cf",
   "metadata": {
    "executionInfo": {
     "elapsed": 712,
     "status": "ok",
     "timestamp": 1743021763842,
     "user": {
      "displayName": "Michael Babajide",
      "userId": "14171008162149959629"
     },
     "user_tz": -60
    },
    "id": "c51b5cb0-5813-4f11-859d-88f4814699cf"
   },
   "outputs": [],
   "source": [
    "crop_train, crop_val = sklearn.model_selection.train_test_split(crop_train_full, test_size = 0.3, random_state = 42)"
   ]
  },
  {
   "cell_type": "code",
   "execution_count": 10,
   "id": "3e3bf042-67a2-41ca-9c23-538e6e4d59dc",
   "metadata": {
    "executionInfo": {
     "elapsed": 37,
     "status": "ok",
     "timestamp": 1743021763883,
     "user": {
      "displayName": "Michael Babajide",
      "userId": "14171008162149959629"
     },
     "user_tz": -60
    },
    "id": "3e3bf042-67a2-41ca-9c23-538e6e4d59dc"
   },
   "outputs": [],
   "source": [
    "y_train_full = crop_train_full.yield_tons_per_hectare.values\n",
    "y_train = crop_train.yield_tons_per_hectare.values\n",
    "y_val = crop_val.yield_tons_per_hectare.values\n",
    "y_test = crop_test.yield_tons_per_hectare.values"
   ]
  },
  {
   "cell_type": "code",
   "execution_count": 11,
   "id": "1eb95c9f-544b-4c7b-94b0-b1cff243710f",
   "metadata": {
    "executionInfo": {
     "elapsed": 23,
     "status": "ok",
     "timestamp": 1743021831506,
     "user": {
      "displayName": "Michael Babajide",
      "userId": "14171008162149959629"
     },
     "user_tz": -60
    },
    "id": "1eb95c9f-544b-4c7b-94b0-b1cff243710f"
   },
   "outputs": [],
   "source": [
    "del crop_train['yield_tons_per_hectare']\n",
    "del crop_val['yield_tons_per_hectare']\n",
    "del crop_test['yield_tons_per_hectare']"
   ]
  },
  {
   "cell_type": "code",
   "execution_count": 35,
   "id": "adc2b87a-080b-4906-9795-01ffd1fa6e66",
   "metadata": {
    "colab": {
     "base_uri": "https://localhost:8080/"
    },
    "executionInfo": {
     "elapsed": 10,
     "status": "ok",
     "timestamp": 1743020037474,
     "user": {
      "displayName": "Michael Babajide",
      "userId": "14171008162149959629"
     },
     "user_tz": -60
    },
    "id": "adc2b87a-080b-4906-9795-01ffd1fa6e66",
    "outputId": "60625b57-ab0a-4c8b-fdd5-f0121e9fba10"
   },
   "outputs": [
    {
     "name": "stdout",
     "output_type": "stream",
     "text": [
      "(559870, 9)\n",
      "(239945, 9)\n",
      "(199954, 9)\n"
     ]
    }
   ],
   "source": [
    "print(crop_train.shape)\n",
    "print(crop_val.shape)\n",
    "print(crop_test.shape)"
   ]
  },
  {
   "cell_type": "code",
   "execution_count": 36,
   "id": "924cf9df-5bd4-45c9-a1fb-6db9cd7f3fed",
   "metadata": {
    "colab": {
     "base_uri": "https://localhost:8080/"
    },
    "executionInfo": {
     "elapsed": 105,
     "status": "ok",
     "timestamp": 1743009726501,
     "user": {
      "displayName": "Michael Babajide",
      "userId": "14171008162149959629"
     },
     "user_tz": -60
    },
    "id": "924cf9df-5bd4-45c9-a1fb-6db9cd7f3fed",
    "outputId": "bbba9ed7-a2ef-4ed1-8b10-44becb585e2a"
   },
   "outputs": [
    {
     "name": "stdout",
     "output_type": "stream",
     "text": [
      "(559870,)\n",
      "(239945,)\n"
     ]
    }
   ],
   "source": [
    "print(y_train.shape)\n",
    "print(y_val.shape)"
   ]
  },
  {
   "cell_type": "code",
   "execution_count": 12,
   "id": "21595827-1fee-4613-87f3-0b8026cbcf50",
   "metadata": {
    "executionInfo": {
     "elapsed": 4,
     "status": "ok",
     "timestamp": 1743009733277,
     "user": {
      "displayName": "Michael Babajide",
      "userId": "14171008162149959629"
     },
     "user_tz": -60
    },
    "id": "21595827-1fee-4613-87f3-0b8026cbcf50"
   },
   "outputs": [],
   "source": [
    "numerical_columns = ['rainfall_mm', 'temperature_celsius', 'days_to_harvest', 'fertilizer_used', 'irrigation_used']\n",
    "categorical_columns = ['region', 'soil_type', 'crop', 'weather_condition']"
   ]
  },
  {
   "cell_type": "markdown",
   "id": "22ad03f8-7151-49d7-b7b2-1ca6420c2385",
   "metadata": {
    "id": "22ad03f8-7151-49d7-b7b2-1ca6420c2385"
   },
   "source": [
    "### **Categorical Features:**\n",
    "1. **Region (North, East, South, West)**  \n",
    "   - Different regions have varying climatic conditions, soil quality, and agricultural practices.  \n",
    "   - Some regions may have more favorable conditions for specific crops, leading to higher yields.\n",
    "\n",
    "2. **Soil_Type (Clay, Sandy, Loam, Silt, Peaty, Chalky)**  \n",
    "   - Soil type affects water retention, nutrient availability, and root penetration.  \n",
    "   - **Loam soil** is generally the most fertile, while **sandy soil** drains too quickly, which may reduce yield unless managed properly.\n",
    "\n",
    "3. **Crop (Wheat, Rice, Maize, Barley, Soybean, Cotton)**  \n",
    "   - Different crops have different growth requirements (e.g., **rice needs more water**, while **cotton is more drought-resistant**).  \n",
    "   - Crop type directly affects yield expectations, as some naturally produce higher or lower yields.\n",
    "\n",
    "4. **Weather_Condition (Sunny, Rainy, Cloudy)**  \n",
    "   - **Sunny weather** can promote growth but might cause heat stress if excessive.  \n",
    "   - **Rainy weather** is beneficial but can lead to waterlogging, which harms certain crops.  \n",
    "   - **Cloudy weather** reduces sunlight exposure, possibly slowing photosynthesis and affecting yield.\n",
    "\n",
    "### **Numerical Features:**\n",
    "5. **Rainfall_mm**  \n",
    "   - Adequate rainfall ensures proper water supply, leading to healthy plant growth.  \n",
    "   - **Too much rainfall** can cause waterlogging, root rot, and fungal diseases, reducing yield.  \n",
    "   - **Too little rainfall** can lead to drought stress, affecting crop development.\n",
    "\n",
    "6. **Temperature_Celsius**  \n",
    "   - Each crop has an **optimal temperature range** for growth.  \n",
    "   - **Extreme temperatures** (too hot or too cold) can reduce yield by affecting germination, growth rate, and flowering.  \n",
    "   - **Moderate temperatures** generally favor crop development.\n",
    "\n",
    "7. **Days_to_Harvest**  \n",
    "   - A longer growing period may allow more biomass accumulation, leading to **higher yields**.  \n",
    "   - However, some crops may degrade in quality if they take too long to mature.\n",
    "\n",
    "### **Boolean Features (True/False):**\n",
    "8. **Fertilizer_Used**  \n",
    "   - Fertilizers **increase nutrient availability**, leading to better crop growth and higher yields.  \n",
    "   - However, **excessive fertilizer use** can cause nutrient imbalances, harming yield and soil health.\n",
    "\n",
    "9. **Irrigation_Used**  \n",
    "   - Irrigation **ensures water availability**, especially in dry conditions, leading to **higher yields**.  \n",
    "   - In regions with sufficient rainfall, irrigation might have **less impact** on yield.  \n",
    "   - **Over-irrigation** can lead to soil erosion or nutrient leaching, negatively impacting yield.\n",
    "\n",
    "**The Boolean Features have been converted to Numerical Features - 0/1 (False/True)**\n",
    "\n",
    "### **Overall Relationship with Yield:**  \n",
    "- **Positive Impact:** Moderate **rainfall, temperature, fertilizer, irrigation, loam soil, and proper harvesting time** will **increase yield**.  \n",
    "- **Negative Impact:** **Extreme temperatures, excessive/insufficient rainfall, poor soil types, and improper water/fertilizer management** will **reduce yield**.  "
   ]
  },
  {
   "cell_type": "code",
   "execution_count": null,
   "id": "a4a13f41-69b6-445c-b91f-5789f9b207c0",
   "metadata": {
    "id": "a4a13f41-69b6-445c-b91f-5789f9b207c0"
   },
   "outputs": [],
   "source": [
    "crop_train_full_copy = crop_train_full.copy()"
   ]
  },
  {
   "cell_type": "code",
   "execution_count": null,
   "id": "212820fb-221b-4d74-94a2-99bdf17b763f",
   "metadata": {
    "id": "212820fb-221b-4d74-94a2-99bdf17b763f",
    "outputId": "ef2e11cc-3152-4db6-ba08-f172632f1746"
   },
   "outputs": [
    {
     "data": {
      "text/plain": [
       "region               4\n",
       "soil_type            6\n",
       "crop                 6\n",
       "weather_condition    3\n",
       "dtype: int64"
      ]
     },
     "execution_count": 24,
     "metadata": {},
     "output_type": "execute_result"
    }
   ],
   "source": [
    "crop_train_full_copy[categorical_columns].nunique()"
   ]
  },
  {
   "cell_type": "code",
   "execution_count": null,
   "id": "f15bd934-5f90-4f86-a6db-06869e290b37",
   "metadata": {
    "id": "f15bd934-5f90-4f86-a6db-06869e290b37",
    "outputId": "f562d8b5-9a2e-47dd-f3bb-b437f0e90816"
   },
   "outputs": [
    {
     "name": "stdout",
     "output_type": "stream",
     "text": [
      "region\n",
      "west     200378\n",
      "north    200057\n",
      "south    200032\n",
      "east     199348\n",
      "Name: count, dtype: int64 \n",
      "\n",
      "soil_type\n",
      "sandy     133701\n",
      "loam      133404\n",
      "chalky    133383\n",
      "peaty     133182\n",
      "silt      133099\n",
      "clay      133046\n",
      "Name: count, dtype: int64 \n",
      "\n",
      "crop\n",
      "cotton     133410\n",
      "wheat      133355\n",
      "maize      133348\n",
      "rice       133263\n",
      "barley     133252\n",
      "soybean    133187\n",
      "Name: count, dtype: int64 \n",
      "\n",
      "weather_condition\n",
      "sunny     267108\n",
      "rainy     266686\n",
      "cloudy    266021\n",
      "Name: count, dtype: int64 \n",
      "\n"
     ]
    }
   ],
   "source": [
    "for categorical in categorical_columns:\n",
    "    print(crop_train_full_copy[categorical].value_counts(),'\\n')"
   ]
  },
  {
   "cell_type": "code",
   "execution_count": null,
   "id": "fc63d0da-c33f-4b52-8c4a-254deb8b92e6",
   "metadata": {
    "id": "fc63d0da-c33f-4b52-8c4a-254deb8b92e6"
   },
   "outputs": [],
   "source": [
    "# label = ['1', '2', '3'] #1:low, 2:medium; 3:high\n",
    "\n",
    "bins = [-np.inf, 3, 6, np.inf]\n",
    "crop_train_full_copy['yield_label'] = np.digitize(crop_train_full_copy['yield_tons_per_hectare'], bins, right = False)"
   ]
  },
  {
   "cell_type": "code",
   "execution_count": null,
   "id": "a35a1e94-4917-40fe-832b-e3e3e8273c2c",
   "metadata": {
    "id": "a35a1e94-4917-40fe-832b-e3e3e8273c2c",
    "outputId": "2bdca51a-85a7-4fe6-8b16-37c71a047260"
   },
   "outputs": [
    {
     "data": {
      "text/html": [
       "<div>\n",
       "<style scoped>\n",
       "    .dataframe tbody tr th:only-of-type {\n",
       "        vertical-align: middle;\n",
       "    }\n",
       "\n",
       "    .dataframe tbody tr th {\n",
       "        vertical-align: top;\n",
       "    }\n",
       "\n",
       "    .dataframe thead th {\n",
       "        text-align: right;\n",
       "    }\n",
       "</style>\n",
       "<table border=\"1\" class=\"dataframe\">\n",
       "  <thead>\n",
       "    <tr style=\"text-align: right;\">\n",
       "      <th></th>\n",
       "      <th>816419</th>\n",
       "      <th>180578</th>\n",
       "      <th>766106</th>\n",
       "      <th>207834</th>\n",
       "      <th>411634</th>\n",
       "    </tr>\n",
       "  </thead>\n",
       "  <tbody>\n",
       "    <tr>\n",
       "      <th>region</th>\n",
       "      <td>west</td>\n",
       "      <td>north</td>\n",
       "      <td>north</td>\n",
       "      <td>north</td>\n",
       "      <td>north</td>\n",
       "    </tr>\n",
       "    <tr>\n",
       "      <th>soil_type</th>\n",
       "      <td>clay</td>\n",
       "      <td>sandy</td>\n",
       "      <td>peaty</td>\n",
       "      <td>chalky</td>\n",
       "      <td>loam</td>\n",
       "    </tr>\n",
       "    <tr>\n",
       "      <th>crop</th>\n",
       "      <td>soybean</td>\n",
       "      <td>barley</td>\n",
       "      <td>cotton</td>\n",
       "      <td>wheat</td>\n",
       "      <td>soybean</td>\n",
       "    </tr>\n",
       "    <tr>\n",
       "      <th>rainfall_mm</th>\n",
       "      <td>835.288831</td>\n",
       "      <td>867.649855</td>\n",
       "      <td>269.615635</td>\n",
       "      <td>923.607497</td>\n",
       "      <td>354.781067</td>\n",
       "    </tr>\n",
       "    <tr>\n",
       "      <th>temperature_celsius</th>\n",
       "      <td>39.936159</td>\n",
       "      <td>35.125782</td>\n",
       "      <td>19.801171</td>\n",
       "      <td>21.427055</td>\n",
       "      <td>18.384813</td>\n",
       "    </tr>\n",
       "    <tr>\n",
       "      <th>fertilizer_used</th>\n",
       "      <td>1</td>\n",
       "      <td>1</td>\n",
       "      <td>1</td>\n",
       "      <td>0</td>\n",
       "      <td>1</td>\n",
       "    </tr>\n",
       "    <tr>\n",
       "      <th>irrigation_used</th>\n",
       "      <td>0</td>\n",
       "      <td>0</td>\n",
       "      <td>1</td>\n",
       "      <td>0</td>\n",
       "      <td>1</td>\n",
       "    </tr>\n",
       "    <tr>\n",
       "      <th>weather_condition</th>\n",
       "      <td>cloudy</td>\n",
       "      <td>sunny</td>\n",
       "      <td>cloudy</td>\n",
       "      <td>rainy</td>\n",
       "      <td>cloudy</td>\n",
       "    </tr>\n",
       "    <tr>\n",
       "      <th>days_to_harvest</th>\n",
       "      <td>77</td>\n",
       "      <td>131</td>\n",
       "      <td>67</td>\n",
       "      <td>128</td>\n",
       "      <td>96</td>\n",
       "    </tr>\n",
       "    <tr>\n",
       "      <th>yield_tons_per_hectare</th>\n",
       "      <td>6.411219</td>\n",
       "      <td>7.09672</td>\n",
       "      <td>4.404192</td>\n",
       "      <td>5.364438</td>\n",
       "      <td>4.76866</td>\n",
       "    </tr>\n",
       "    <tr>\n",
       "      <th>yield_label</th>\n",
       "      <td>3</td>\n",
       "      <td>3</td>\n",
       "      <td>2</td>\n",
       "      <td>2</td>\n",
       "      <td>2</td>\n",
       "    </tr>\n",
       "  </tbody>\n",
       "</table>\n",
       "</div>"
      ],
      "text/plain": [
       "                            816419      180578      766106      207834  \\\n",
       "region                        west       north       north       north   \n",
       "soil_type                     clay       sandy       peaty      chalky   \n",
       "crop                       soybean      barley      cotton       wheat   \n",
       "rainfall_mm             835.288831  867.649855  269.615635  923.607497   \n",
       "temperature_celsius      39.936159   35.125782   19.801171   21.427055   \n",
       "fertilizer_used                  1           1           1           0   \n",
       "irrigation_used                  0           0           1           0   \n",
       "weather_condition           cloudy       sunny      cloudy       rainy   \n",
       "days_to_harvest                 77         131          67         128   \n",
       "yield_tons_per_hectare    6.411219     7.09672    4.404192    5.364438   \n",
       "yield_label                      3           3           2           2   \n",
       "\n",
       "                            411634  \n",
       "region                       north  \n",
       "soil_type                     loam  \n",
       "crop                       soybean  \n",
       "rainfall_mm             354.781067  \n",
       "temperature_celsius      18.384813  \n",
       "fertilizer_used                  1  \n",
       "irrigation_used                  1  \n",
       "weather_condition           cloudy  \n",
       "days_to_harvest                 96  \n",
       "yield_tons_per_hectare     4.76866  \n",
       "yield_label                      2  "
      ]
     },
     "execution_count": 19,
     "metadata": {},
     "output_type": "execute_result"
    }
   ],
   "source": [
    "crop_train_full_copy.head().T"
   ]
  },
  {
   "cell_type": "code",
   "execution_count": null,
   "id": "1da0b520-ef12-4cf4-b362-21584a1e30cf",
   "metadata": {
    "id": "1da0b520-ef12-4cf4-b362-21584a1e30cf"
   },
   "outputs": [],
   "source": [
    "crop_train_full_copy['rainfall_temp_interaction'] = crop_train_full_copy['rainfall_mm'] * crop_train_full_copy['temperature_celsius']\n",
    "crop_train_full_copy['fertilizer_irrigation_interaction'] = ((crop_train_full_copy['fertilizer_used'] == 1) & (crop_train_full_copy['irrigation_used'] == 1)).astype(int)"
   ]
  },
  {
   "cell_type": "code",
   "execution_count": null,
   "id": "b948f295-a541-4795-8252-817fd4e300a0",
   "metadata": {
    "id": "b948f295-a541-4795-8252-817fd4e300a0",
    "outputId": "52554bc2-d35b-4f89-95cf-e445626c3caa"
   },
   "outputs": [
    {
     "data": {
      "text/html": [
       "<div>\n",
       "<style scoped>\n",
       "    .dataframe tbody tr th:only-of-type {\n",
       "        vertical-align: middle;\n",
       "    }\n",
       "\n",
       "    .dataframe tbody tr th {\n",
       "        vertical-align: top;\n",
       "    }\n",
       "\n",
       "    .dataframe thead th {\n",
       "        text-align: right;\n",
       "    }\n",
       "</style>\n",
       "<table border=\"1\" class=\"dataframe\">\n",
       "  <thead>\n",
       "    <tr style=\"text-align: right;\">\n",
       "      <th></th>\n",
       "      <th>mutual_information</th>\n",
       "    </tr>\n",
       "  </thead>\n",
       "  <tbody>\n",
       "    <tr>\n",
       "      <th>crop</th>\n",
       "      <td>7.704473e-06</td>\n",
       "    </tr>\n",
       "    <tr>\n",
       "      <th>soil_type</th>\n",
       "      <td>3.450390e-06</td>\n",
       "    </tr>\n",
       "    <tr>\n",
       "      <th>region</th>\n",
       "      <td>1.326481e-06</td>\n",
       "    </tr>\n",
       "    <tr>\n",
       "      <th>weather_condition</th>\n",
       "      <td>8.385662e-07</td>\n",
       "    </tr>\n",
       "  </tbody>\n",
       "</table>\n",
       "</div>"
      ],
      "text/plain": [
       "                   mutual_information\n",
       "crop                     7.704473e-06\n",
       "soil_type                3.450390e-06\n",
       "region                   1.326481e-06\n",
       "weather_condition        8.385662e-07"
      ]
     },
     "execution_count": 29,
     "metadata": {},
     "output_type": "execute_result"
    }
   ],
   "source": [
    "def calculate_mutual_info(data):\n",
    "    return sklearn.metrics.mutual_info_score(data, crop_train_full_copy.yield_label)\n",
    "\n",
    "crop_train_full_copy_mi = crop_train_full_copy[categorical_columns].apply(calculate_mutual_info)\n",
    "crop_train_full_copy_mi = crop_train_full_copy_mi.sort_values(ascending=False).to_frame(name = 'mutual_information')\n",
    "\n",
    "crop_train_full_copy_mi"
   ]
  },
  {
   "cell_type": "code",
   "execution_count": null,
   "id": "c97ec00a-6169-4111-a7cc-adf3faa973f3",
   "metadata": {
    "id": "c97ec00a-6169-4111-a7cc-adf3faa973f3",
    "outputId": "08b8d6ed-56a2-4c41-f69c-7a59839c72cb"
   },
   "outputs": [
    {
     "data": {
      "text/html": [
       "<div>\n",
       "<style scoped>\n",
       "    .dataframe tbody tr th:only-of-type {\n",
       "        vertical-align: middle;\n",
       "    }\n",
       "\n",
       "    .dataframe tbody tr th {\n",
       "        vertical-align: top;\n",
       "    }\n",
       "\n",
       "    .dataframe thead th {\n",
       "        text-align: right;\n",
       "    }\n",
       "</style>\n",
       "<table border=\"1\" class=\"dataframe\">\n",
       "  <thead>\n",
       "    <tr style=\"text-align: right;\">\n",
       "      <th></th>\n",
       "      <th>correlation</th>\n",
       "    </tr>\n",
       "  </thead>\n",
       "  <tbody>\n",
       "    <tr>\n",
       "      <th>rainfall_mm</th>\n",
       "      <td>0.764229</td>\n",
       "    </tr>\n",
       "    <tr>\n",
       "      <th>rainfall_temp_interaction</th>\n",
       "      <td>0.691116</td>\n",
       "    </tr>\n",
       "    <tr>\n",
       "      <th>fertilizer_irrigation_interaction</th>\n",
       "      <td>0.459654</td>\n",
       "    </tr>\n",
       "    <tr>\n",
       "      <th>fertilizer_used</th>\n",
       "      <td>0.442345</td>\n",
       "    </tr>\n",
       "    <tr>\n",
       "      <th>irrigation_used</th>\n",
       "      <td>0.353458</td>\n",
       "    </tr>\n",
       "    <tr>\n",
       "      <th>temperature_celsius</th>\n",
       "      <td>0.084577</td>\n",
       "    </tr>\n",
       "    <tr>\n",
       "      <th>days_to_harvest</th>\n",
       "      <td>-0.002805</td>\n",
       "    </tr>\n",
       "  </tbody>\n",
       "</table>\n",
       "</div>"
      ],
      "text/plain": [
       "                                   correlation\n",
       "rainfall_mm                           0.764229\n",
       "rainfall_temp_interaction             0.691116\n",
       "fertilizer_irrigation_interaction     0.459654\n",
       "fertilizer_used                       0.442345\n",
       "irrigation_used                       0.353458\n",
       "temperature_celsius                   0.084577\n",
       "days_to_harvest                      -0.002805"
      ]
     },
     "execution_count": 21,
     "metadata": {},
     "output_type": "execute_result"
    }
   ],
   "source": [
    "columns = ['rainfall_mm', 'temperature_celsius', 'days_to_harvest', 'rainfall_temp_interaction', 'fertilizer_used', 'irrigation_used', 'fertilizer_irrigation_interaction']\n",
    "crop_train_full_copy_corr = crop_train_full_copy[columns].corrwith(crop_train_full_copy.yield_tons_per_hectare).to_frame('correlation')\n",
    "crop_train_full_copy_corr.sort_values('correlation', ascending=False)"
   ]
  },
  {
   "cell_type": "code",
   "execution_count": null,
   "id": "49a2cabd-89de-40a9-b03c-56f9a627eea5",
   "metadata": {
    "id": "49a2cabd-89de-40a9-b03c-56f9a627eea5",
    "outputId": "ed7eac9b-25b9-4b11-d3b2-5fc46572142a"
   },
   "outputs": [
    {
     "data": {
      "image/png": "[encoded data removed]",
      "text/plain": [
       "<Figure size 1500x1000 with 49 Axes>"
      ]
     },
     "metadata": {},
     "output_type": "display_data"
    }
   ],
   "source": [
    "colmns = ['rainfall_mm', 'temperature_celsius', 'rainfall_temp_interaction', 'days_to_harvest', 'fertilizer_used', 'irrigation_used', 'yield_tons_per_hectare']\n",
    "pd.plotting.scatter_matrix(crop_train_full_copy[colmns], figsize=(15,10))\n",
    "plt.show()"
   ]
  },
  {
   "cell_type": "code",
   "execution_count": 13,
   "id": "38ab7e60-982f-4fee-9c31-08c757d725b9",
   "metadata": {
    "executionInfo": {
     "elapsed": 25,
     "status": "ok",
     "timestamp": 1743009751083,
     "user": {
      "displayName": "Michael Babajide",
      "userId": "14171008162149959629"
     },
     "user_tz": -60
    },
    "id": "38ab7e60-982f-4fee-9c31-08c757d725b9"
   },
   "outputs": [],
   "source": [
    "#column selector\n",
    "class ColumnSelector(sklearn.base.BaseEstimator, sklearn.base.TransformerMixin):\n",
    "    def __init__(self, columns):\n",
    "        self.columns = columns\n",
    "    def fit(self, X, y = None):\n",
    "        return self\n",
    "    def transform(self, X):\n",
    "        if isinstance(X, np.ndarray):\n",
    "            # If input is a 1D NumPy array\n",
    "            return X\n",
    "        return X[self.columns].values"
   ]
  },
  {
   "cell_type": "code",
   "execution_count": 14,
   "id": "665bb711-d4f9-4f26-9669-b1759732c1cf",
   "metadata": {
    "executionInfo": {
     "elapsed": 5,
     "status": "ok",
     "timestamp": 1743010083728,
     "user": {
      "displayName": "Michael Babajide",
      "userId": "14171008162149959629"
     },
     "user_tz": -60
    },
    "id": "665bb711-d4f9-4f26-9669-b1759732c1cf"
   },
   "outputs": [],
   "source": [
    "#adding features\n",
    "# Assuming rainfall, temperature, fertilizer_used and irrigation_used are at indices 0,1,3,4\n",
    "rainfall_ix, temperature_ix, fertilizer_used_ix, irrigation_used_ix = 0, 1, 3, 4\n",
    "\n",
    "class CombinedFeaturesAdder(sklearn.base.BaseEstimator, sklearn.base.TransformerMixin):\n",
    "    def __init__(self, add_rain_temp_interaction = True, add_fertilizer_irrigation_interaction = True):\n",
    "        self.add_rain_temp_interaction = add_rain_temp_interaction\n",
    "        self.add_fertilizer_irrigation_interaction = add_fertilizer_irrigation_interaction\n",
    "    def fit(self, X, y=None):\n",
    "        return self\n",
    "    def transform(self, X, y=None):\n",
    "        # rain and temperature interaction\n",
    "        if self.add_rain_temp_interaction:\n",
    "            rain_temp_interaction = X[:, rainfall_ix] * X[:, temperature_ix]\n",
    "            return np.c_[X, rain_temp_interaction]\n",
    "        # fertilizer and irrigation interaction\n",
    "        if self.add_fertilizer_irrigation_interaction:\n",
    "            # Create a new feature that is 1 only when BOTH fertilizer and irrigation are used\n",
    "            fertilizer_irrigation_interaction = (X[:, fertilizer_used_ix] == 1) & (X[:, irrigation_used_ix] == 1)\n",
    "            X = np.c_[X, fertilizer_irrigation_interaction.astype(int)]\n",
    "        else:\n",
    "            return X"
   ]
  },
  {
   "cell_type": "code",
   "execution_count": 15,
   "id": "224e4480-dc9e-4da1-b2bb-304887bf7df6",
   "metadata": {
    "executionInfo": {
     "elapsed": 25,
     "status": "ok",
     "timestamp": 1743009757202,
     "user": {
      "displayName": "Michael Babajide",
      "userId": "14171008162149959629"
     },
     "user_tz": -60
    },
    "id": "224e4480-dc9e-4da1-b2bb-304887bf7df6"
   },
   "outputs": [],
   "source": [
    "class CategoricalLabelBinarizer(sklearn.base.BaseEstimator, sklearn.base.TransformerMixin):\n",
    "    def __init__(self):\n",
    "        self.encoders = {} # Initialize an empty dictionary for storing LabelBinarizers\n",
    "\n",
    "    def fit(self, X, y = None):\n",
    "        self.encoders = {} # Resetting self.encoders\n",
    "        X = np.array(X, dtype=object) # Ensure it's a NumPy array\n",
    "\n",
    "        for i in range(X.shape[1]):\n",
    "            if isinstance(X[0, i], str):\n",
    "                label_binarizer = LabelBinarizer() #sklearn.preprocessing.LabelBinarizer()\n",
    "                label_binarizer.fit(X[:, i])\n",
    "                self.encoders[i] = label_binarizer\n",
    "            else:\n",
    "                raise ValueError(f\"Column \\\"{i}\\\" is not categorical (string type). Only categorical features are allowed.\")\n",
    "        return self\n",
    "\n",
    "    def transform(self, X, y = None):\n",
    "        X = np.array(X, dtype=object) # Ensure it's a NumPy array\n",
    "        binarized_columns = []\n",
    "\n",
    "        for i in range(X.shape[1]):\n",
    "            if i in self.encoders:\n",
    "                binarized_columns.append(self.encoders[i].transform(X[:, i]))\n",
    "        return np.hstack(binarized_columns)"
   ]
  },
  {
   "cell_type": "code",
   "execution_count": 16,
   "id": "1e3e6d2c-b64d-4984-ab0c-a104be0c09da",
   "metadata": {
    "executionInfo": {
     "elapsed": 33,
     "status": "ok",
     "timestamp": 1743010097308,
     "user": {
      "displayName": "Michael Babajide",
      "userId": "14171008162149959629"
     },
     "user_tz": -60
    },
    "id": "1e3e6d2c-b64d-4984-ab0c-a104be0c09da"
   },
   "outputs": [],
   "source": [
    "'''\n",
    "feature engineering\n",
    "onehot encode the categorical data\n",
    "feature scaling (temperature, rainfall, and days_to_harvest:MinMaxScaling)\n",
    "feature creation (rainfall*temperature = rainfall_temp_interaction;\n",
    "fertilizer_irrigation_interaction = fertilizer_used AND irrigation_used)\n",
    "'''\n",
    "\n",
    "def prepare_full_pipeline():\n",
    "    \"\"\"\n",
    "    Prepare the full preprocessing pipeline with extended feature engineering\n",
    "    \"\"\"\n",
    "\n",
    "    numerical_pipeline = sklearn.pipeline.Pipeline([\n",
    "        ('selector', ColumnSelector(numerical_columns)),\n",
    "        ('feature_adder', CombinedFeaturesAdder()),\n",
    "        ('scaler', StandardScaler())\n",
    "    ])\n",
    "\n",
    "    categorical_pipeline = sklearn.pipeline.Pipeline([\n",
    "        ('selector', ColumnSelector(categorical_columns)),\n",
    "        ('label_binarizer', CategoricalLabelBinarizer())\n",
    "    ])\n",
    "\n",
    "    full_pipeline = sklearn.pipeline.FeatureUnion(transformer_list=[\n",
    "        ('numerical_pipeline', numerical_pipeline),\n",
    "        ('categorical_pipeline', categorical_pipeline)\n",
    "    ])\n",
    "\n",
    "    return full_pipeline"
   ]
  },
  {
   "cell_type": "code",
   "execution_count": 63,
   "id": "ae88a4dc-06b9-44b7-b357-d28e851dab9c",
   "metadata": {
    "executionInfo": {
     "elapsed": 33991,
     "status": "ok",
     "timestamp": 1743010134367,
     "user": {
      "displayName": "Michael Babajide",
      "userId": "14171008162149959629"
     },
     "user_tz": -60
    },
    "id": "ae88a4dc-06b9-44b7-b357-d28e851dab9c"
   },
   "outputs": [],
   "source": [
    "full_pipeline = prepare_full_pipeline()\n",
    "\n",
    "crop_train_processed = full_pipeline.fit_transform(crop_train)\n",
    "crop_val_processed = full_pipeline.fit_transform(crop_val)"
   ]
  },
  {
   "cell_type": "code",
   "execution_count": 24,
   "id": "GD_asr6jf6YW",
   "metadata": {
    "colab": {
     "base_uri": "https://localhost:8080/"
    },
    "executionInfo": {
     "elapsed": 58,
     "status": "ok",
     "timestamp": 1743010134900,
     "user": {
      "displayName": "Michael Babajide",
      "userId": "14171008162149959629"
     },
     "user_tz": -60
    },
    "id": "GD_asr6jf6YW",
    "outputId": "beb18d55-6f8b-41bf-8443-b8f55e8435c3"
   },
   "outputs": [
    {
     "data": {
      "text/plain": [
       "array([[-0.70855951, -0.11560903, -0.09689418, ...,  0.        ,\n",
       "         1.        ,  0.        ],\n",
       "       [-0.43664512, -1.13852736, -0.52062232, ...,  0.        ,\n",
       "         0.        ,  1.        ],\n",
       "       [-0.01259294,  0.03332814, -1.1754749 , ...,  1.        ,\n",
       "         0.        ,  0.        ],\n",
       "       ...,\n",
       "       [ 0.05722608,  0.92807946, -1.05991268, ...,  1.        ,\n",
       "         0.        ,  0.        ],\n",
       "       [ 1.35565048,  0.5697481 , -1.1754749 , ...,  1.        ,\n",
       "         0.        ,  0.        ],\n",
       "       [-1.48698773,  0.04429558,  1.21281099, ...,  0.        ,\n",
       "         0.        ,  1.        ]])"
      ]
     },
     "execution_count": 24,
     "metadata": {},
     "output_type": "execute_result"
    }
   ],
   "source": [
    "crop_train_processed"
   ]
  },
  {
   "cell_type": "code",
   "execution_count": 43,
   "id": "df0e89d5-af1b-490d-8546-5796062a0bd9",
   "metadata": {
    "executionInfo": {
     "elapsed": 7,
     "status": "ok",
     "timestamp": 1743010178320,
     "user": {
      "displayName": "Michael Babajide",
      "userId": "14171008162149959629"
     },
     "user_tz": -60
    },
    "id": "df0e89d5-af1b-490d-8546-5796062a0bd9"
   },
   "outputs": [],
   "source": [
    "def model_evaluation(X_train, X_val, y_train, y_val, models):\n",
    "    \"\"\"\n",
    "    Perform advanced model evaluation with cross-validation and detailed metrics\n",
    "\n",
    "    Args:\n",
    "        X_train (array): Training features\n",
    "        X_val (array): Validation features\n",
    "        y_train (array): Training target\n",
    "        y_val (array): Validation target\n",
    "        models (dict): Dictionary of models to evaluate\n",
    "\n",
    "    Returns:\n",
    "        dict: Detailed model performance metrics\n",
    "    \"\"\"\n",
    "    results = {}\n",
    "\n",
    "    for name, model in models.items():\n",
    "        # Fit the model\n",
    "        model.fit(X_train, y_train)\n",
    "\n",
    "        # Predictions\n",
    "        y_pred_train = model.predict(X_train)\n",
    "        y_pred_val = model.predict(X_val)\n",
    "\n",
    "        # Compute metrics\n",
    "        results[name] = {\n",
    "            'Train RMSE': np.sqrt(mean_squared_error(y_train, y_pred_train)),\n",
    "            'Train MAE': mean_absolute_error(y_train, y_pred_train),\n",
    "            'Train R²': r2_score(y_train, y_pred_train),\n",
    "            'Validation RMSE': np.sqrt(mean_squared_error(y_val, y_pred_val)),\n",
    "            'Validation MAE': mean_absolute_error(y_val, y_pred_val),\n",
    "            'Validation R²': r2_score(y_val, y_pred_val)\n",
    "        }\n",
    "\n",
    "    return results"
   ]
  },
  {
   "cell_type": "code",
   "execution_count": 27,
   "id": "47966dbf-a581-4f1d-b51b-809af2a04f10",
   "metadata": {
    "colab": {
     "base_uri": "https://localhost:8080/"
    },
    "executionInfo": {
     "elapsed": 1226730,
     "status": "ok",
     "timestamp": 1743011495790,
     "user": {
      "displayName": "Michael Babajide",
      "userId": "14171008162149959629"
     },
     "user_tz": -60
    },
    "id": "47966dbf-a581-4f1d-b51b-809af2a04f10",
    "outputId": "acd5dc75-6fc0-408a-8e53-e7e10074f623"
   },
   "outputs": [
    {
     "name": "stdout",
     "output_type": "stream",
     "text": [
      "\n",
      "Linear Regression Results:\n",
      "Train RMSE: 0.5005649825106507\n",
      "Train MAE: 0.3994729690655516\n",
      "Train R²: 0.9128388487742509\n",
      "Validation RMSE: 0.49977961629699597\n",
      "Validation MAE: 0.3988614175570316\n",
      "Validation R²: 0.9130129039031016\n",
      "\n",
      "Linear SVR Results:\n",
      "Train RMSE: 0.5005978868176846\n",
      "Train MAE: 0.3994804370855866\n",
      "Train R²: 0.9128273894367268\n",
      "Validation RMSE: 0.4997841183496982\n",
      "Validation MAE: 0.39886451382814614\n",
      "Validation R²: 0.9130113367233201\n",
      "\n",
      "Random Forest Results:\n",
      "Train RMSE: 0.19322134011853317\n",
      "Train MAE: 0.15288752417792512\n",
      "Train R²: 0.9870128993038604\n",
      "Validation RMSE: 0.5149585071048054\n",
      "Validation MAE: 0.41102068329651653\n",
      "Validation R²: 0.9076488668619833\n",
      "\n",
      "Gradient Boosting Results:\n",
      "Train RMSE: 0.5016417528519707\n",
      "Train MAE: 0.4003297671154413\n",
      "Train R²: 0.9124634590070501\n",
      "Validation RMSE: 0.5018167322338023\n",
      "Validation MAE: 0.4004664079860317\n",
      "Validation R²: 0.9123023349411336\n"
     ]
    }
   ],
   "source": [
    "# Models to evaluate\n",
    "models = {\n",
    "    'Linear Regression': LinearRegression(),\n",
    "    'Linear SVR': LinearSVR(max_iter = 10000),\n",
    "    'Random Forest': RandomForestRegressor(random_state=42),\n",
    "    'Gradient Boosting': GradientBoostingRegressor(random_state=42)\n",
    "}\n",
    "\n",
    "# Evaluate models\n",
    "model_results = model_evaluation(\n",
    "    crop_train_processed, crop_val_processed, y_train, y_val, models\n",
    ")\n",
    "\n",
    "# Print detailed results\n",
    "for name, metrics in model_results.items():\n",
    "    print(f\"\\n{name} Results:\")\n",
    "    for metric, value in metrics.items():\n",
    "        print(f\"{metric}: {value}\")"
   ]
  },
  {
   "cell_type": "markdown",
   "id": "14bd4bf1-deb4-431c-8838-f85378f77ebd",
   "metadata": {
    "id": "14bd4bf1-deb4-431c-8838-f85378f77ebd"
   },
   "source": [
    "- The best performing model based on both `RMSE` and `R-squared` is essentially tied between **Linear Regression** and **SVR** with very similar metrics.\n",
    "- Random Forest has the highest execution time by far but does not offer significantly better performance than other models."
   ]
  },
  {
   "cell_type": "code",
   "execution_count": 17,
   "id": "1b3b1fdc-c668-4528-a1a7-9ac5147a48d4",
   "metadata": {
    "executionInfo": {
     "elapsed": 8,
     "status": "ok",
     "timestamp": 1743021785013,
     "user": {
      "displayName": "Michael Babajide",
      "userId": "14171008162149959629"
     },
     "user_tz": -60
    },
    "id": "1b3b1fdc-c668-4528-a1a7-9ac5147a48d4"
   },
   "outputs": [],
   "source": [
    "del crop_train_full['yield_tons_per_hectare']"
   ]
  },
  {
   "cell_type": "code",
   "execution_count": 18,
   "id": "qUnlj9IxDWtr",
   "metadata": {
    "executionInfo": {
     "elapsed": 27,
     "status": "ok",
     "timestamp": 1743022325578,
     "user": {
      "displayName": "Michael Babajide",
      "userId": "14171008162149959629"
     },
     "user_tz": -60
    },
    "id": "qUnlj9IxDWtr"
   },
   "outputs": [],
   "source": [
    "def save_best_model(best_model, X_train_full, y_train, X_test, y_test, model_name):\n",
    "    \"\"\"\n",
    "    Train the best model on full training data and save the model and preprocessing pipeline\n",
    "\n",
    "    Args:\n",
    "        best_model: The selected best model\n",
    "        X_train: Full training data\n",
    "        y_train: Training labels\n",
    "        X_test: Test data (optional, used for pipeline transformation)\n",
    "        model_name: Name of the model for file naming\n",
    "\n",
    "    Returns:\n",
    "        dict: Model and pipeline save paths\n",
    "    \"\"\"\n",
    "    # Prepare full preprocessing pipeline\n",
    "    full_pipeline = prepare_full_pipeline()\n",
    "\n",
    "    # Preprocess the full training data\n",
    "    X_train_full_processed = full_pipeline.fit_transform(X_train_full)\n",
    "    X_test_processed = full_pipeline.transform(X_test)\n",
    "\n",
    "    # Fit the best model on full training data\n",
    "    best_model.fit(X_train_full_processed, y_train)\n",
    "\n",
    "    # Test model performance\n",
    "    y_pred_test = best_model.predict(X_test_processed)\n",
    "\n",
    "    test_metrics = {\n",
    "        'Test RMSE': np.sqrt(mean_squared_error(y_test, y_pred_test)),\n",
    "        'Test MAE': mean_absolute_error(y_test, y_pred_test),\n",
    "        'Test R²': r2_score(y_test, y_pred_test)\n",
    "    }\n",
    "\n",
    "    # Generate save paths\n",
    "    timestamp = time.strftime('%Y-%m-%d %H:%M:%S', time.localtime())\n",
    "    # working on colab\n",
    "    # model_save_path = f'/content/drive/MyDrive/ml_ai/crop_yield_prediction/best_crop_yield_model_{model_name}_{timestamp}.joblib'\n",
    "    # pipeline_save_path = f'/content/drive/MyDrive/ml_ai/crop_yield_prediction/crop_yield_preprocessing_pipeline_{timestamp}.joblib'\n",
    "\n",
    "    # working on local machine\n",
    "    model_save_path = 'best_crop_yield_model.pkl'\n",
    "    pipeline_save_path = 'crop_yield_preprocessing_pipeline.pkl'\n",
    "\n",
    "    # Save the best model and preprocessing pipeline\n",
    "    with open(pipeline_save_path, \"wb\") as f:\n",
    "        cloudpickle.dump(full_pipeline, f)\n",
    "\n",
    "    with open(model_save_path, \"wb\") as f:\n",
    "        cloudpickle.dump(best_model, f)\n",
    "\n",
    "    print(f\"Best Model: {model_name}\")\n",
    "    print(\"Model and preprocessing pipeline saved successfully.\")\n",
    "\n",
    "    return test_metrics"
   ]
  },
  {
   "cell_type": "code",
   "execution_count": 72,
   "id": "BMR66rt-Lwun",
   "metadata": {
    "colab": {
     "base_uri": "https://localhost:8080/"
    },
    "executionInfo": {
     "elapsed": 25,
     "status": "ok",
     "timestamp": 1743021837866,
     "user": {
      "displayName": "Michael Babajide",
      "userId": "14171008162149959629"
     },
     "user_tz": -60
    },
    "id": "BMR66rt-Lwun",
    "outputId": "be9c5161-2b95-4cb9-ac79-cf793ad25030"
   },
   "outputs": [
    {
     "name": "stdout",
     "output_type": "stream",
     "text": [
      "(799815, 9)\n",
      "(799815,)\n",
      "(199954, 9)\n",
      "(199954,)\n"
     ]
    }
   ],
   "source": [
    "print(crop_train_full.shape)\n",
    "print(y_train_full.shape)\n",
    "print(crop_test.shape)\n",
    "print(y_test.shape)"
   ]
  },
  {
   "cell_type": "code",
   "execution_count": 19,
   "id": "tWgDxNKQDa9J",
   "metadata": {
    "colab": {
     "base_uri": "https://localhost:8080/"
    },
    "executionInfo": {
     "elapsed": 36930,
     "status": "ok",
     "timestamp": 1743022365616,
     "user": {
      "displayName": "Michael Babajide",
      "userId": "14171008162149959629"
     },
     "user_tz": -60
    },
    "id": "tWgDxNKQDa9J",
    "outputId": "978ec3b2-3c69-462e-9af9-3b32d0430bdc"
   },
   "outputs": [
    {
     "name": "stderr",
     "output_type": "stream",
     "text": [
      "C:\\Users\\boluwatife_3po\\anaconda3\\envs\\crop_yield_prediction\\Lib\\site-packages\\sklearn\\pipeline.py:62: FutureWarning: This Pipeline instance is not fitted yet. Call 'fit' with appropriate arguments before using other methods such as transform, predict, etc. This will raise an error in 1.8 instead of the current warning.\n",
      "  warnings.warn(\n"
     ]
    },
    {
     "name": "stdout",
     "output_type": "stream",
     "text": [
      "Best Model: linear_regression\n",
      "Model and preprocessing pipeline saved successfully.\n",
      "\n",
      "Final Model Performance:\n",
      "\n",
      "Test Metrics:\n",
      "Test RMSE: 0.49927100962897975\n",
      "Test MAE: 0.3983391938038501\n",
      "Test R²: 0.913233721077329\n"
     ]
    }
   ],
   "source": [
    "result = save_best_model(\n",
    "    LinearRegression(),\n",
    "    crop_train_full, y_train_full,\n",
    "    crop_test, y_test, \"linear_regression\"\n",
    ")\n",
    "\n",
    "# Print detailed results\n",
    "print(\"\\nFinal Model Performance:\")\n",
    "print(\"\\nTest Metrics:\")\n",
    "for metric, value in result.items():\n",
    "    print(f\"{metric}: {value}\")"
   ]
  },
  {
   "cell_type": "code",
   "execution_count": 20,
   "id": "0b6234b9-426a-4680-b5bf-1bd3cf1e5144",
   "metadata": {},
   "outputs": [],
   "source": [
    "with open(\"crop_yield_preprocessing_pipeline.pkl\", \"rb\") as f:\n",
    "    pipeline = cloudpickle.load(f)\n",
    "with open(\"best_crop_yield_model.pkl\", \"rb\") as f:\n",
    "    model = cloudpickle.load(f)"
   ]
  },
  {
   "cell_type": "code",
   "execution_count": 30,
   "id": "61537913-fc1a-4c65-98af-e82f591381c0",
   "metadata": {},
   "outputs": [],
   "source": [
    "new_data = [\"North\", \"Sandy\", \"Cotton\", 7.077239, 27.676966, False, False, 'Cloudy', 122]"
   ]
  },
  {
   "cell_type": "code",
   "execution_count": 31,
   "id": "3b630a81-0f70-45b8-a8b5-eb1da27284cd",
   "metadata": {},
   "outputs": [],
   "source": [
    "def predict_with_pipeline(pipeline, model, new_data):\n",
    "    \"\"\"\n",
    "    Prepare input data and use pipeline to make predictions\n",
    "    \n",
    "    Args:\n",
    "        pipeline: Preprocessed sklearn pipeline\n",
    "        model: Trained model\n",
    "        new_data (list): Raw input data\n",
    "    \n",
    "    Returns:\n",
    "        Prediction result\n",
    "    \"\"\"\n",
    "    # Define the exact column names in the order they appear in the pipeline\n",
    "    column_names = [\n",
    "        'region',\n",
    "        'soil_type',\n",
    "        'crop',\n",
    "        'rainfall_mm',\n",
    "        'temperature_celsius',\n",
    "        'fertilizer_used',\n",
    "        'irrigation_used',\n",
    "        'weather_condition',\n",
    "        'days_to_harvest'\n",
    "    ]\n",
    "    \n",
    "    # Create DataFrame with specified column names\n",
    "    df = pd.DataFrame([new_data], columns=column_names)\n",
    "\n",
    "    # Transform input\n",
    "    processed_input = pipeline.transform(df)\n",
    "\n",
    "    # Make prediction\n",
    "    prediction = model.predict(processed_input)\n",
    "\n",
    "    return prediction"
   ]
  },
  {
   "cell_type": "code",
   "execution_count": 32,
   "id": "971880d0-e05e-42a6-8306-b3691a2228fb",
   "metadata": {},
   "outputs": [
    {
     "name": "stderr",
     "output_type": "stream",
     "text": [
      "C:\\Users\\boluwatife_3po\\anaconda3\\envs\\crop_yield_prediction\\Lib\\site-packages\\sklearn\\pipeline.py:62: FutureWarning: This Pipeline instance is not fitted yet. Call 'fit' with appropriate arguments before using other methods such as transform, predict, etc. This will raise an error in 1.8 instead of the current warning.\n",
      "  warnings.warn(\n"
     ]
    },
    {
     "data": {
      "text/plain": [
       "array([0.59358477])"
      ]
     },
     "execution_count": 32,
     "metadata": {},
     "output_type": "execute_result"
    }
   ],
   "source": [
    "predict_with_pipeline(pipeline, model, new_data)"
   ]
  },
  {
   "cell_type": "code",
   "execution_count": null,
   "id": "ebc7da11-672f-4331-8a3b-00938b77fa56",
   "metadata": {},
   "outputs": [],
   "source": []
  }
 ],
 "metadata": {
  "colab": {
   "provenance": []
  },
  "kernelspec": {
   "display_name": "Python 3 (ipykernel)",
   "language": "python",
   "name": "python3"
  },
  "language_info": {
   "codemirror_mode": {
    "name": "ipython",
    "version": 3
   },
   "file_extension": ".py",
   "mimetype": "text/x-python",
   "name": "python",
   "nbconvert_exporter": "python",
   "pygments_lexer": "ipython3",
   "version": "3.12.8"
  }
 },
 "nbformat": 4,
 "nbformat_minor": 5
}
